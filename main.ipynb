{
 "cells": [
  {
   "cell_type": "code",
   "execution_count": 924,
   "id": "376bbae0",
   "metadata": {},
   "outputs": [
    {
     "name": "stdout",
     "output_type": "stream",
     "text": [
      "     Id  MSSubClass MSZoning  LotFrontage  LotArea Street Alley LotShape  \\\n",
      "0  1461          20       RH         80.0    11622   Pave   NaN      Reg   \n",
      "1  1462          20       RL         81.0    14267   Pave   NaN      IR1   \n",
      "2  1463          60       RL         74.0    13830   Pave   NaN      IR1   \n",
      "3  1464          60       RL         78.0     9978   Pave   NaN      IR1   \n",
      "4  1465         120       RL         43.0     5005   Pave   NaN      IR1   \n",
      "\n",
      "  LandContour Utilities  ... ScreenPorch PoolArea PoolQC  Fence MiscFeature  \\\n",
      "0         Lvl    AllPub  ...         120        0    NaN  MnPrv         NaN   \n",
      "1         Lvl    AllPub  ...           0        0    NaN    NaN        Gar2   \n",
      "2         Lvl    AllPub  ...           0        0    NaN  MnPrv         NaN   \n",
      "3         Lvl    AllPub  ...           0        0    NaN    NaN         NaN   \n",
      "4         HLS    AllPub  ...         144        0    NaN    NaN         NaN   \n",
      "\n",
      "  MiscVal MoSold  YrSold  SaleType  SaleCondition  \n",
      "0       0      6    2010        WD         Normal  \n",
      "1   12500      6    2010        WD         Normal  \n",
      "2       0      3    2010        WD         Normal  \n",
      "3       0      6    2010        WD         Normal  \n",
      "4       0      1    2010        WD         Normal  \n",
      "\n",
      "[5 rows x 80 columns]\n",
      "   Id  MSSubClass MSZoning  LotFrontage  LotArea Street Alley LotShape  \\\n",
      "0   1          60       RL         65.0     8450   Pave   NaN      Reg   \n",
      "1   2          20       RL         80.0     9600   Pave   NaN      Reg   \n",
      "2   3          60       RL         68.0    11250   Pave   NaN      IR1   \n",
      "3   4          70       RL         60.0     9550   Pave   NaN      IR1   \n",
      "4   5          60       RL         84.0    14260   Pave   NaN      IR1   \n",
      "\n",
      "  LandContour Utilities  ... PoolArea PoolQC Fence MiscFeature MiscVal MoSold  \\\n",
      "0         Lvl    AllPub  ...        0    NaN   NaN         NaN       0      2   \n",
      "1         Lvl    AllPub  ...        0    NaN   NaN         NaN       0      5   \n",
      "2         Lvl    AllPub  ...        0    NaN   NaN         NaN       0      9   \n",
      "3         Lvl    AllPub  ...        0    NaN   NaN         NaN       0      2   \n",
      "4         Lvl    AllPub  ...        0    NaN   NaN         NaN       0     12   \n",
      "\n",
      "  YrSold  SaleType  SaleCondition  SalePrice  \n",
      "0   2008        WD         Normal     208500  \n",
      "1   2007        WD         Normal     181500  \n",
      "2   2008        WD         Normal     223500  \n",
      "3   2006        WD        Abnorml     140000  \n",
      "4   2008        WD         Normal     250000  \n",
      "\n",
      "[5 rows x 81 columns]\n"
     ]
    }
   ],
   "source": [
    "import pandas as pd\n",
    "test_csv = pd.read_csv('data/test.csv')\n",
    "train_csv = pd.read_csv('data/train.csv')\n",
    "print(test_csv.head())\n",
    "print(train_csv.head())"
   ]
  },
  {
   "cell_type": "code",
   "execution_count": 925,
   "id": "786aff7c",
   "metadata": {},
   "outputs": [
    {
     "data": {
      "text/html": [
       "<div>\n",
       "<style scoped>\n",
       "    .dataframe tbody tr th:only-of-type {\n",
       "        vertical-align: middle;\n",
       "    }\n",
       "\n",
       "    .dataframe tbody tr th {\n",
       "        vertical-align: top;\n",
       "    }\n",
       "\n",
       "    .dataframe thead th {\n",
       "        text-align: right;\n",
       "    }\n",
       "</style>\n",
       "<table border=\"1\" class=\"dataframe\">\n",
       "  <thead>\n",
       "    <tr style=\"text-align: right;\">\n",
       "      <th></th>\n",
       "      <th>Id</th>\n",
       "      <th>MSSubClass</th>\n",
       "      <th>LotFrontage</th>\n",
       "      <th>LotArea</th>\n",
       "      <th>OverallQual</th>\n",
       "      <th>OverallCond</th>\n",
       "      <th>YearBuilt</th>\n",
       "      <th>YearRemodAdd</th>\n",
       "      <th>MasVnrArea</th>\n",
       "      <th>BsmtFinSF1</th>\n",
       "      <th>...</th>\n",
       "      <th>WoodDeckSF</th>\n",
       "      <th>OpenPorchSF</th>\n",
       "      <th>EnclosedPorch</th>\n",
       "      <th>3SsnPorch</th>\n",
       "      <th>ScreenPorch</th>\n",
       "      <th>PoolArea</th>\n",
       "      <th>MiscVal</th>\n",
       "      <th>MoSold</th>\n",
       "      <th>YrSold</th>\n",
       "      <th>SalePrice</th>\n",
       "    </tr>\n",
       "  </thead>\n",
       "  <tbody>\n",
       "    <tr>\n",
       "      <th>count</th>\n",
       "      <td>1460.000000</td>\n",
       "      <td>1460.000000</td>\n",
       "      <td>1201.000000</td>\n",
       "      <td>1460.000000</td>\n",
       "      <td>1460.000000</td>\n",
       "      <td>1460.000000</td>\n",
       "      <td>1460.000000</td>\n",
       "      <td>1460.000000</td>\n",
       "      <td>1452.000000</td>\n",
       "      <td>1460.000000</td>\n",
       "      <td>...</td>\n",
       "      <td>1460.000000</td>\n",
       "      <td>1460.000000</td>\n",
       "      <td>1460.000000</td>\n",
       "      <td>1460.000000</td>\n",
       "      <td>1460.000000</td>\n",
       "      <td>1460.000000</td>\n",
       "      <td>1460.000000</td>\n",
       "      <td>1460.000000</td>\n",
       "      <td>1460.000000</td>\n",
       "      <td>1460.000000</td>\n",
       "    </tr>\n",
       "    <tr>\n",
       "      <th>mean</th>\n",
       "      <td>730.500000</td>\n",
       "      <td>56.897260</td>\n",
       "      <td>70.049958</td>\n",
       "      <td>10516.828082</td>\n",
       "      <td>6.099315</td>\n",
       "      <td>5.575342</td>\n",
       "      <td>1971.267808</td>\n",
       "      <td>1984.865753</td>\n",
       "      <td>103.685262</td>\n",
       "      <td>443.639726</td>\n",
       "      <td>...</td>\n",
       "      <td>94.244521</td>\n",
       "      <td>46.660274</td>\n",
       "      <td>21.954110</td>\n",
       "      <td>3.409589</td>\n",
       "      <td>15.060959</td>\n",
       "      <td>2.758904</td>\n",
       "      <td>43.489041</td>\n",
       "      <td>6.321918</td>\n",
       "      <td>2007.815753</td>\n",
       "      <td>180921.195890</td>\n",
       "    </tr>\n",
       "    <tr>\n",
       "      <th>std</th>\n",
       "      <td>421.610009</td>\n",
       "      <td>42.300571</td>\n",
       "      <td>24.284752</td>\n",
       "      <td>9981.264932</td>\n",
       "      <td>1.382997</td>\n",
       "      <td>1.112799</td>\n",
       "      <td>30.202904</td>\n",
       "      <td>20.645407</td>\n",
       "      <td>181.066207</td>\n",
       "      <td>456.098091</td>\n",
       "      <td>...</td>\n",
       "      <td>125.338794</td>\n",
       "      <td>66.256028</td>\n",
       "      <td>61.119149</td>\n",
       "      <td>29.317331</td>\n",
       "      <td>55.757415</td>\n",
       "      <td>40.177307</td>\n",
       "      <td>496.123024</td>\n",
       "      <td>2.703626</td>\n",
       "      <td>1.328095</td>\n",
       "      <td>79442.502883</td>\n",
       "    </tr>\n",
       "    <tr>\n",
       "      <th>min</th>\n",
       "      <td>1.000000</td>\n",
       "      <td>20.000000</td>\n",
       "      <td>21.000000</td>\n",
       "      <td>1300.000000</td>\n",
       "      <td>1.000000</td>\n",
       "      <td>1.000000</td>\n",
       "      <td>1872.000000</td>\n",
       "      <td>1950.000000</td>\n",
       "      <td>0.000000</td>\n",
       "      <td>0.000000</td>\n",
       "      <td>...</td>\n",
       "      <td>0.000000</td>\n",
       "      <td>0.000000</td>\n",
       "      <td>0.000000</td>\n",
       "      <td>0.000000</td>\n",
       "      <td>0.000000</td>\n",
       "      <td>0.000000</td>\n",
       "      <td>0.000000</td>\n",
       "      <td>1.000000</td>\n",
       "      <td>2006.000000</td>\n",
       "      <td>34900.000000</td>\n",
       "    </tr>\n",
       "    <tr>\n",
       "      <th>25%</th>\n",
       "      <td>365.750000</td>\n",
       "      <td>20.000000</td>\n",
       "      <td>59.000000</td>\n",
       "      <td>7553.500000</td>\n",
       "      <td>5.000000</td>\n",
       "      <td>5.000000</td>\n",
       "      <td>1954.000000</td>\n",
       "      <td>1967.000000</td>\n",
       "      <td>0.000000</td>\n",
       "      <td>0.000000</td>\n",
       "      <td>...</td>\n",
       "      <td>0.000000</td>\n",
       "      <td>0.000000</td>\n",
       "      <td>0.000000</td>\n",
       "      <td>0.000000</td>\n",
       "      <td>0.000000</td>\n",
       "      <td>0.000000</td>\n",
       "      <td>0.000000</td>\n",
       "      <td>5.000000</td>\n",
       "      <td>2007.000000</td>\n",
       "      <td>129975.000000</td>\n",
       "    </tr>\n",
       "    <tr>\n",
       "      <th>50%</th>\n",
       "      <td>730.500000</td>\n",
       "      <td>50.000000</td>\n",
       "      <td>69.000000</td>\n",
       "      <td>9478.500000</td>\n",
       "      <td>6.000000</td>\n",
       "      <td>5.000000</td>\n",
       "      <td>1973.000000</td>\n",
       "      <td>1994.000000</td>\n",
       "      <td>0.000000</td>\n",
       "      <td>383.500000</td>\n",
       "      <td>...</td>\n",
       "      <td>0.000000</td>\n",
       "      <td>25.000000</td>\n",
       "      <td>0.000000</td>\n",
       "      <td>0.000000</td>\n",
       "      <td>0.000000</td>\n",
       "      <td>0.000000</td>\n",
       "      <td>0.000000</td>\n",
       "      <td>6.000000</td>\n",
       "      <td>2008.000000</td>\n",
       "      <td>163000.000000</td>\n",
       "    </tr>\n",
       "    <tr>\n",
       "      <th>75%</th>\n",
       "      <td>1095.250000</td>\n",
       "      <td>70.000000</td>\n",
       "      <td>80.000000</td>\n",
       "      <td>11601.500000</td>\n",
       "      <td>7.000000</td>\n",
       "      <td>6.000000</td>\n",
       "      <td>2000.000000</td>\n",
       "      <td>2004.000000</td>\n",
       "      <td>166.000000</td>\n",
       "      <td>712.250000</td>\n",
       "      <td>...</td>\n",
       "      <td>168.000000</td>\n",
       "      <td>68.000000</td>\n",
       "      <td>0.000000</td>\n",
       "      <td>0.000000</td>\n",
       "      <td>0.000000</td>\n",
       "      <td>0.000000</td>\n",
       "      <td>0.000000</td>\n",
       "      <td>8.000000</td>\n",
       "      <td>2009.000000</td>\n",
       "      <td>214000.000000</td>\n",
       "    </tr>\n",
       "    <tr>\n",
       "      <th>max</th>\n",
       "      <td>1460.000000</td>\n",
       "      <td>190.000000</td>\n",
       "      <td>313.000000</td>\n",
       "      <td>215245.000000</td>\n",
       "      <td>10.000000</td>\n",
       "      <td>9.000000</td>\n",
       "      <td>2010.000000</td>\n",
       "      <td>2010.000000</td>\n",
       "      <td>1600.000000</td>\n",
       "      <td>5644.000000</td>\n",
       "      <td>...</td>\n",
       "      <td>857.000000</td>\n",
       "      <td>547.000000</td>\n",
       "      <td>552.000000</td>\n",
       "      <td>508.000000</td>\n",
       "      <td>480.000000</td>\n",
       "      <td>738.000000</td>\n",
       "      <td>15500.000000</td>\n",
       "      <td>12.000000</td>\n",
       "      <td>2010.000000</td>\n",
       "      <td>755000.000000</td>\n",
       "    </tr>\n",
       "  </tbody>\n",
       "</table>\n",
       "<p>8 rows × 38 columns</p>\n",
       "</div>"
      ],
      "text/plain": [
       "                Id   MSSubClass  LotFrontage        LotArea  OverallQual  \\\n",
       "count  1460.000000  1460.000000  1201.000000    1460.000000  1460.000000   \n",
       "mean    730.500000    56.897260    70.049958   10516.828082     6.099315   \n",
       "std     421.610009    42.300571    24.284752    9981.264932     1.382997   \n",
       "min       1.000000    20.000000    21.000000    1300.000000     1.000000   \n",
       "25%     365.750000    20.000000    59.000000    7553.500000     5.000000   \n",
       "50%     730.500000    50.000000    69.000000    9478.500000     6.000000   \n",
       "75%    1095.250000    70.000000    80.000000   11601.500000     7.000000   \n",
       "max    1460.000000   190.000000   313.000000  215245.000000    10.000000   \n",
       "\n",
       "       OverallCond    YearBuilt  YearRemodAdd   MasVnrArea   BsmtFinSF1  ...  \\\n",
       "count  1460.000000  1460.000000   1460.000000  1452.000000  1460.000000  ...   \n",
       "mean      5.575342  1971.267808   1984.865753   103.685262   443.639726  ...   \n",
       "std       1.112799    30.202904     20.645407   181.066207   456.098091  ...   \n",
       "min       1.000000  1872.000000   1950.000000     0.000000     0.000000  ...   \n",
       "25%       5.000000  1954.000000   1967.000000     0.000000     0.000000  ...   \n",
       "50%       5.000000  1973.000000   1994.000000     0.000000   383.500000  ...   \n",
       "75%       6.000000  2000.000000   2004.000000   166.000000   712.250000  ...   \n",
       "max       9.000000  2010.000000   2010.000000  1600.000000  5644.000000  ...   \n",
       "\n",
       "        WoodDeckSF  OpenPorchSF  EnclosedPorch    3SsnPorch  ScreenPorch  \\\n",
       "count  1460.000000  1460.000000    1460.000000  1460.000000  1460.000000   \n",
       "mean     94.244521    46.660274      21.954110     3.409589    15.060959   \n",
       "std     125.338794    66.256028      61.119149    29.317331    55.757415   \n",
       "min       0.000000     0.000000       0.000000     0.000000     0.000000   \n",
       "25%       0.000000     0.000000       0.000000     0.000000     0.000000   \n",
       "50%       0.000000    25.000000       0.000000     0.000000     0.000000   \n",
       "75%     168.000000    68.000000       0.000000     0.000000     0.000000   \n",
       "max     857.000000   547.000000     552.000000   508.000000   480.000000   \n",
       "\n",
       "          PoolArea       MiscVal       MoSold       YrSold      SalePrice  \n",
       "count  1460.000000   1460.000000  1460.000000  1460.000000    1460.000000  \n",
       "mean      2.758904     43.489041     6.321918  2007.815753  180921.195890  \n",
       "std      40.177307    496.123024     2.703626     1.328095   79442.502883  \n",
       "min       0.000000      0.000000     1.000000  2006.000000   34900.000000  \n",
       "25%       0.000000      0.000000     5.000000  2007.000000  129975.000000  \n",
       "50%       0.000000      0.000000     6.000000  2008.000000  163000.000000  \n",
       "75%       0.000000      0.000000     8.000000  2009.000000  214000.000000  \n",
       "max     738.000000  15500.000000    12.000000  2010.000000  755000.000000  \n",
       "\n",
       "[8 rows x 38 columns]"
      ]
     },
     "execution_count": 925,
     "metadata": {},
     "output_type": "execute_result"
    }
   ],
   "source": [
    "train_csv.describe()"
   ]
  },
  {
   "cell_type": "code",
   "execution_count": 926,
   "id": "dc043604",
   "metadata": {},
   "outputs": [
    {
     "data": {
      "text/plain": [
       "Id                0.000000\n",
       "MSSubClass        0.000000\n",
       "MSZoning          0.000000\n",
       "LotFrontage      17.739726\n",
       "LotArea           0.000000\n",
       "                   ...    \n",
       "MoSold            0.000000\n",
       "YrSold            0.000000\n",
       "SaleType          0.000000\n",
       "SaleCondition     0.000000\n",
       "SalePrice         0.000000\n",
       "Length: 81, dtype: float64"
      ]
     },
     "execution_count": 926,
     "metadata": {},
     "output_type": "execute_result"
    }
   ],
   "source": [
    "na_percent = train_csv.isna().mean() * 100\n",
    "na_percent"
   ]
  },
  {
   "cell_type": "code",
   "execution_count": 927,
   "id": "105dac7e",
   "metadata": {},
   "outputs": [
    {
     "data": {
      "text/plain": [
       "PoolQC         99.520548\n",
       "MiscFeature    96.301370\n",
       "Alley          93.767123\n",
       "Fence          80.753425\n",
       "MasVnrType     59.726027\n",
       "FireplaceQu    47.260274\n",
       "LotFrontage    17.739726\n",
       "GarageYrBlt     5.547945\n",
       "GarageCond      5.547945\n",
       "GarageType      5.547945\n",
       "dtype: float64"
      ]
     },
     "execution_count": 927,
     "metadata": {},
     "output_type": "execute_result"
    }
   ],
   "source": [
    "top10 = na_percent.sort_values(ascending=False)[:10]\n",
    "top10"
   ]
  },
  {
   "cell_type": "code",
   "execution_count": 928,
   "id": "77727815",
   "metadata": {},
   "outputs": [
    {
     "data": {
      "application/vnd.plotly.v1+json": {
       "config": {
        "plotlyServerURL": "https://plot.ly"
       },
       "data": [
        {
         "alignmentgroup": "True",
         "hovertemplate": "x=%{x}<br>index=%{y}<extra></extra>",
         "legendgroup": "",
         "marker": {
          "color": "#636efa",
          "pattern": {
           "shape": ""
          }
         },
         "name": "",
         "offsetgroup": "",
         "orientation": "h",
         "showlegend": false,
         "textposition": "auto",
         "type": "bar",
         "x": [
          99.52054794520548,
          96.30136986301369,
          93.76712328767123,
          80.75342465753424,
          59.726027397260275,
          47.26027397260274,
          17.73972602739726,
          5.5479452054794525,
          5.5479452054794525,
          5.5479452054794525
         ],
         "xaxis": "x",
         "y": [
          "PoolQC",
          "MiscFeature",
          "Alley",
          "Fence",
          "MasVnrType",
          "FireplaceQu",
          "LotFrontage",
          "GarageYrBlt",
          "GarageCond",
          "GarageType"
         ],
         "yaxis": "y"
        }
       ],
       "layout": {
        "barmode": "relative",
        "legend": {
         "tracegroupgap": 0
        },
        "template": {
         "data": {
          "bar": [
           {
            "error_x": {
             "color": "#2a3f5f"
            },
            "error_y": {
             "color": "#2a3f5f"
            },
            "marker": {
             "line": {
              "color": "#E5ECF6",
              "width": 0.5
             },
             "pattern": {
              "fillmode": "overlay",
              "size": 10,
              "solidity": 0.2
             }
            },
            "type": "bar"
           }
          ],
          "barpolar": [
           {
            "marker": {
             "line": {
              "color": "#E5ECF6",
              "width": 0.5
             },
             "pattern": {
              "fillmode": "overlay",
              "size": 10,
              "solidity": 0.2
             }
            },
            "type": "barpolar"
           }
          ],
          "carpet": [
           {
            "aaxis": {
             "endlinecolor": "#2a3f5f",
             "gridcolor": "white",
             "linecolor": "white",
             "minorgridcolor": "white",
             "startlinecolor": "#2a3f5f"
            },
            "baxis": {
             "endlinecolor": "#2a3f5f",
             "gridcolor": "white",
             "linecolor": "white",
             "minorgridcolor": "white",
             "startlinecolor": "#2a3f5f"
            },
            "type": "carpet"
           }
          ],
          "choropleth": [
           {
            "colorbar": {
             "outlinewidth": 0,
             "ticks": ""
            },
            "type": "choropleth"
           }
          ],
          "contour": [
           {
            "colorbar": {
             "outlinewidth": 0,
             "ticks": ""
            },
            "colorscale": [
             [
              0,
              "#0d0887"
             ],
             [
              0.1111111111111111,
              "#46039f"
             ],
             [
              0.2222222222222222,
              "#7201a8"
             ],
             [
              0.3333333333333333,
              "#9c179e"
             ],
             [
              0.4444444444444444,
              "#bd3786"
             ],
             [
              0.5555555555555556,
              "#d8576b"
             ],
             [
              0.6666666666666666,
              "#ed7953"
             ],
             [
              0.7777777777777778,
              "#fb9f3a"
             ],
             [
              0.8888888888888888,
              "#fdca26"
             ],
             [
              1,
              "#f0f921"
             ]
            ],
            "type": "contour"
           }
          ],
          "contourcarpet": [
           {
            "colorbar": {
             "outlinewidth": 0,
             "ticks": ""
            },
            "type": "contourcarpet"
           }
          ],
          "heatmap": [
           {
            "colorbar": {
             "outlinewidth": 0,
             "ticks": ""
            },
            "colorscale": [
             [
              0,
              "#0d0887"
             ],
             [
              0.1111111111111111,
              "#46039f"
             ],
             [
              0.2222222222222222,
              "#7201a8"
             ],
             [
              0.3333333333333333,
              "#9c179e"
             ],
             [
              0.4444444444444444,
              "#bd3786"
             ],
             [
              0.5555555555555556,
              "#d8576b"
             ],
             [
              0.6666666666666666,
              "#ed7953"
             ],
             [
              0.7777777777777778,
              "#fb9f3a"
             ],
             [
              0.8888888888888888,
              "#fdca26"
             ],
             [
              1,
              "#f0f921"
             ]
            ],
            "type": "heatmap"
           }
          ],
          "heatmapgl": [
           {
            "colorbar": {
             "outlinewidth": 0,
             "ticks": ""
            },
            "colorscale": [
             [
              0,
              "#0d0887"
             ],
             [
              0.1111111111111111,
              "#46039f"
             ],
             [
              0.2222222222222222,
              "#7201a8"
             ],
             [
              0.3333333333333333,
              "#9c179e"
             ],
             [
              0.4444444444444444,
              "#bd3786"
             ],
             [
              0.5555555555555556,
              "#d8576b"
             ],
             [
              0.6666666666666666,
              "#ed7953"
             ],
             [
              0.7777777777777778,
              "#fb9f3a"
             ],
             [
              0.8888888888888888,
              "#fdca26"
             ],
             [
              1,
              "#f0f921"
             ]
            ],
            "type": "heatmapgl"
           }
          ],
          "histogram": [
           {
            "marker": {
             "pattern": {
              "fillmode": "overlay",
              "size": 10,
              "solidity": 0.2
             }
            },
            "type": "histogram"
           }
          ],
          "histogram2d": [
           {
            "colorbar": {
             "outlinewidth": 0,
             "ticks": ""
            },
            "colorscale": [
             [
              0,
              "#0d0887"
             ],
             [
              0.1111111111111111,
              "#46039f"
             ],
             [
              0.2222222222222222,
              "#7201a8"
             ],
             [
              0.3333333333333333,
              "#9c179e"
             ],
             [
              0.4444444444444444,
              "#bd3786"
             ],
             [
              0.5555555555555556,
              "#d8576b"
             ],
             [
              0.6666666666666666,
              "#ed7953"
             ],
             [
              0.7777777777777778,
              "#fb9f3a"
             ],
             [
              0.8888888888888888,
              "#fdca26"
             ],
             [
              1,
              "#f0f921"
             ]
            ],
            "type": "histogram2d"
           }
          ],
          "histogram2dcontour": [
           {
            "colorbar": {
             "outlinewidth": 0,
             "ticks": ""
            },
            "colorscale": [
             [
              0,
              "#0d0887"
             ],
             [
              0.1111111111111111,
              "#46039f"
             ],
             [
              0.2222222222222222,
              "#7201a8"
             ],
             [
              0.3333333333333333,
              "#9c179e"
             ],
             [
              0.4444444444444444,
              "#bd3786"
             ],
             [
              0.5555555555555556,
              "#d8576b"
             ],
             [
              0.6666666666666666,
              "#ed7953"
             ],
             [
              0.7777777777777778,
              "#fb9f3a"
             ],
             [
              0.8888888888888888,
              "#fdca26"
             ],
             [
              1,
              "#f0f921"
             ]
            ],
            "type": "histogram2dcontour"
           }
          ],
          "mesh3d": [
           {
            "colorbar": {
             "outlinewidth": 0,
             "ticks": ""
            },
            "type": "mesh3d"
           }
          ],
          "parcoords": [
           {
            "line": {
             "colorbar": {
              "outlinewidth": 0,
              "ticks": ""
             }
            },
            "type": "parcoords"
           }
          ],
          "pie": [
           {
            "automargin": true,
            "type": "pie"
           }
          ],
          "scatter": [
           {
            "fillpattern": {
             "fillmode": "overlay",
             "size": 10,
             "solidity": 0.2
            },
            "type": "scatter"
           }
          ],
          "scatter3d": [
           {
            "line": {
             "colorbar": {
              "outlinewidth": 0,
              "ticks": ""
             }
            },
            "marker": {
             "colorbar": {
              "outlinewidth": 0,
              "ticks": ""
             }
            },
            "type": "scatter3d"
           }
          ],
          "scattercarpet": [
           {
            "marker": {
             "colorbar": {
              "outlinewidth": 0,
              "ticks": ""
             }
            },
            "type": "scattercarpet"
           }
          ],
          "scattergeo": [
           {
            "marker": {
             "colorbar": {
              "outlinewidth": 0,
              "ticks": ""
             }
            },
            "type": "scattergeo"
           }
          ],
          "scattergl": [
           {
            "marker": {
             "colorbar": {
              "outlinewidth": 0,
              "ticks": ""
             }
            },
            "type": "scattergl"
           }
          ],
          "scattermapbox": [
           {
            "marker": {
             "colorbar": {
              "outlinewidth": 0,
              "ticks": ""
             }
            },
            "type": "scattermapbox"
           }
          ],
          "scatterpolar": [
           {
            "marker": {
             "colorbar": {
              "outlinewidth": 0,
              "ticks": ""
             }
            },
            "type": "scatterpolar"
           }
          ],
          "scatterpolargl": [
           {
            "marker": {
             "colorbar": {
              "outlinewidth": 0,
              "ticks": ""
             }
            },
            "type": "scatterpolargl"
           }
          ],
          "scatterternary": [
           {
            "marker": {
             "colorbar": {
              "outlinewidth": 0,
              "ticks": ""
             }
            },
            "type": "scatterternary"
           }
          ],
          "surface": [
           {
            "colorbar": {
             "outlinewidth": 0,
             "ticks": ""
            },
            "colorscale": [
             [
              0,
              "#0d0887"
             ],
             [
              0.1111111111111111,
              "#46039f"
             ],
             [
              0.2222222222222222,
              "#7201a8"
             ],
             [
              0.3333333333333333,
              "#9c179e"
             ],
             [
              0.4444444444444444,
              "#bd3786"
             ],
             [
              0.5555555555555556,
              "#d8576b"
             ],
             [
              0.6666666666666666,
              "#ed7953"
             ],
             [
              0.7777777777777778,
              "#fb9f3a"
             ],
             [
              0.8888888888888888,
              "#fdca26"
             ],
             [
              1,
              "#f0f921"
             ]
            ],
            "type": "surface"
           }
          ],
          "table": [
           {
            "cells": {
             "fill": {
              "color": "#EBF0F8"
             },
             "line": {
              "color": "white"
             }
            },
            "header": {
             "fill": {
              "color": "#C8D4E3"
             },
             "line": {
              "color": "white"
             }
            },
            "type": "table"
           }
          ]
         },
         "layout": {
          "annotationdefaults": {
           "arrowcolor": "#2a3f5f",
           "arrowhead": 0,
           "arrowwidth": 1
          },
          "autotypenumbers": "strict",
          "coloraxis": {
           "colorbar": {
            "outlinewidth": 0,
            "ticks": ""
           }
          },
          "colorscale": {
           "diverging": [
            [
             0,
             "#8e0152"
            ],
            [
             0.1,
             "#c51b7d"
            ],
            [
             0.2,
             "#de77ae"
            ],
            [
             0.3,
             "#f1b6da"
            ],
            [
             0.4,
             "#fde0ef"
            ],
            [
             0.5,
             "#f7f7f7"
            ],
            [
             0.6,
             "#e6f5d0"
            ],
            [
             0.7,
             "#b8e186"
            ],
            [
             0.8,
             "#7fbc41"
            ],
            [
             0.9,
             "#4d9221"
            ],
            [
             1,
             "#276419"
            ]
           ],
           "sequential": [
            [
             0,
             "#0d0887"
            ],
            [
             0.1111111111111111,
             "#46039f"
            ],
            [
             0.2222222222222222,
             "#7201a8"
            ],
            [
             0.3333333333333333,
             "#9c179e"
            ],
            [
             0.4444444444444444,
             "#bd3786"
            ],
            [
             0.5555555555555556,
             "#d8576b"
            ],
            [
             0.6666666666666666,
             "#ed7953"
            ],
            [
             0.7777777777777778,
             "#fb9f3a"
            ],
            [
             0.8888888888888888,
             "#fdca26"
            ],
            [
             1,
             "#f0f921"
            ]
           ],
           "sequentialminus": [
            [
             0,
             "#0d0887"
            ],
            [
             0.1111111111111111,
             "#46039f"
            ],
            [
             0.2222222222222222,
             "#7201a8"
            ],
            [
             0.3333333333333333,
             "#9c179e"
            ],
            [
             0.4444444444444444,
             "#bd3786"
            ],
            [
             0.5555555555555556,
             "#d8576b"
            ],
            [
             0.6666666666666666,
             "#ed7953"
            ],
            [
             0.7777777777777778,
             "#fb9f3a"
            ],
            [
             0.8888888888888888,
             "#fdca26"
            ],
            [
             1,
             "#f0f921"
            ]
           ]
          },
          "colorway": [
           "#636efa",
           "#EF553B",
           "#00cc96",
           "#ab63fa",
           "#FFA15A",
           "#19d3f3",
           "#FF6692",
           "#B6E880",
           "#FF97FF",
           "#FECB52"
          ],
          "font": {
           "color": "#2a3f5f"
          },
          "geo": {
           "bgcolor": "white",
           "lakecolor": "white",
           "landcolor": "#E5ECF6",
           "showlakes": true,
           "showland": true,
           "subunitcolor": "white"
          },
          "hoverlabel": {
           "align": "left"
          },
          "hovermode": "closest",
          "mapbox": {
           "style": "light"
          },
          "paper_bgcolor": "white",
          "plot_bgcolor": "#E5ECF6",
          "polar": {
           "angularaxis": {
            "gridcolor": "white",
            "linecolor": "white",
            "ticks": ""
           },
           "bgcolor": "#E5ECF6",
           "radialaxis": {
            "gridcolor": "white",
            "linecolor": "white",
            "ticks": ""
           }
          },
          "scene": {
           "xaxis": {
            "backgroundcolor": "#E5ECF6",
            "gridcolor": "white",
            "gridwidth": 2,
            "linecolor": "white",
            "showbackground": true,
            "ticks": "",
            "zerolinecolor": "white"
           },
           "yaxis": {
            "backgroundcolor": "#E5ECF6",
            "gridcolor": "white",
            "gridwidth": 2,
            "linecolor": "white",
            "showbackground": true,
            "ticks": "",
            "zerolinecolor": "white"
           },
           "zaxis": {
            "backgroundcolor": "#E5ECF6",
            "gridcolor": "white",
            "gridwidth": 2,
            "linecolor": "white",
            "showbackground": true,
            "ticks": "",
            "zerolinecolor": "white"
           }
          },
          "shapedefaults": {
           "line": {
            "color": "#2a3f5f"
           }
          },
          "ternary": {
           "aaxis": {
            "gridcolor": "white",
            "linecolor": "white",
            "ticks": ""
           },
           "baxis": {
            "gridcolor": "white",
            "linecolor": "white",
            "ticks": ""
           },
           "bgcolor": "#E5ECF6",
           "caxis": {
            "gridcolor": "white",
            "linecolor": "white",
            "ticks": ""
           }
          },
          "title": {
           "x": 0.05
          },
          "xaxis": {
           "automargin": true,
           "gridcolor": "white",
           "linecolor": "white",
           "ticks": "",
           "title": {
            "standoff": 15
           },
           "zerolinecolor": "white",
           "zerolinewidth": 2
          },
          "yaxis": {
           "automargin": true,
           "gridcolor": "white",
           "linecolor": "white",
           "ticks": "",
           "title": {
            "standoff": 15
           },
           "zerolinecolor": "white",
           "zerolinewidth": 2
          }
         }
        },
        "title": {
         "text": "Top 10 columns by NAN %"
        },
        "xaxis": {
         "anchor": "y",
         "domain": [
          0,
          1
         ],
         "title": {
          "text": "x"
         }
        },
        "yaxis": {
         "anchor": "x",
         "domain": [
          0,
          1
         ],
         "title": {
          "text": "index"
         }
        }
       }
      }
     },
     "metadata": {},
     "output_type": "display_data"
    }
   ],
   "source": [
    "import plotly.express as px\n",
    "fig = px.bar(top10, x=top10.values, y=top10.index, orientation='h',\n",
    "             title='Top 10 columns by NAN %')\n",
    "fig.show()"
   ]
  },
  {
   "cell_type": "code",
   "execution_count": 929,
   "id": "22c6b0fb",
   "metadata": {},
   "outputs": [
    {
     "data": {
      "text/plain": [
       "Fence           80.753425\n",
       "MasVnrType      59.726027\n",
       "FireplaceQu     47.260274\n",
       "LotFrontage     17.739726\n",
       "GarageType       5.547945\n",
       "GarageYrBlt      5.547945\n",
       "GarageQual       5.547945\n",
       "GarageCond       5.547945\n",
       "GarageFinish     5.547945\n",
       "BsmtFinType2     2.602740\n",
       "BsmtExposure     2.602740\n",
       "BsmtQual         2.534247\n",
       "BsmtFinType1     2.534247\n",
       "BsmtCond         2.534247\n",
       "MasVnrArea       0.547945\n",
       "Electrical       0.068493\n",
       "Functional       0.000000\n",
       "BsmtFullBath     0.000000\n",
       "dtype: float64"
      ]
     },
     "execution_count": 929,
     "metadata": {},
     "output_type": "execute_result"
    }
   ],
   "source": [
    "na_cols = ['Alley', 'MiscFeature', 'PoolQC']\n",
    "train_csv[na_cols] = train_csv[na_cols].fillna('None')\n",
    "test_csv[na_cols] = test_csv[na_cols].fillna('None')\n",
    "(train_csv.isna().mean() * 100).sort_values(ascending=False)[:18]"
   ]
  },
  {
   "cell_type": "code",
   "execution_count": 930,
   "id": "8c41a0ee",
   "metadata": {},
   "outputs": [
    {
     "name": "stdout",
     "output_type": "stream",
     "text": [
      "{'SalePrice'}\n"
     ]
    }
   ],
   "source": [
    "target_candidates = set(train_csv.columns) - set(test_csv.columns)\n",
    "print(target_candidates)"
   ]
  },
  {
   "cell_type": "code",
   "execution_count": 931,
   "id": "4f1eecd4",
   "metadata": {},
   "outputs": [
    {
     "data": {
      "application/vnd.plotly.v1+json": {
       "config": {
        "plotlyServerURL": "https://plot.ly"
       },
       "data": [
        {
         "alignmentgroup": "True",
         "bingroup": "x",
         "hovertemplate": "SalePrice=%{x}<br>count=%{y}<extra></extra>",
         "legendgroup": "",
         "marker": {
          "color": "#636efa",
          "pattern": {
           "shape": ""
          }
         },
         "name": "",
         "nbinsx": 40,
         "offsetgroup": "",
         "orientation": "v",
         "showlegend": false,
         "type": "histogram",
         "x": [
          208500,
          181500,
          223500,
          140000,
          250000,
          143000,
          307000,
          200000,
          129900,
          118000,
          129500,
          345000,
          144000,
          279500,
          157000,
          132000,
          149000,
          90000,
          159000,
          139000,
          325300,
          139400,
          230000,
          129900,
          154000,
          256300,
          134800,
          306000,
          207500,
          68500,
          40000,
          149350,
          179900,
          165500,
          277500,
          309000,
          145000,
          153000,
          109000,
          82000,
          160000,
          170000,
          144000,
          130250,
          141000,
          319900,
          239686,
          249700,
          113000,
          127000,
          177000,
          114500,
          110000,
          385000,
          130000,
          180500,
          172500,
          196500,
          438780,
          124900,
          158000,
          101000,
          202500,
          140000,
          219500,
          317000,
          180000,
          226000,
          80000,
          225000,
          244000,
          129500,
          185000,
          144900,
          107400,
          91000,
          135750,
          127000,
          136500,
          110000,
          193500,
          153500,
          245000,
          126500,
          168500,
          260000,
          174000,
          164500,
          85000,
          123600,
          109900,
          98600,
          163500,
          133900,
          204750,
          185000,
          214000,
          94750,
          83000,
          128950,
          205000,
          178000,
          118964,
          198900,
          169500,
          250000,
          100000,
          115000,
          115000,
          190000,
          136900,
          180000,
          383970,
          217000,
          259500,
          176000,
          139000,
          155000,
          320000,
          163990,
          180000,
          100000,
          136000,
          153900,
          181000,
          84500,
          128000,
          87000,
          155000,
          150000,
          226000,
          244000,
          150750,
          220000,
          180000,
          174000,
          143000,
          171000,
          230000,
          231500,
          115000,
          260000,
          166000,
          204000,
          125000,
          130000,
          105000,
          222500,
          141000,
          115000,
          122000,
          372402,
          190000,
          235000,
          125000,
          79000,
          109500,
          269500,
          254900,
          320000,
          162500,
          412500,
          220000,
          103200,
          152000,
          127500,
          190000,
          325624,
          183500,
          228000,
          128500,
          215000,
          239000,
          163000,
          184000,
          243000,
          211000,
          172500,
          501837,
          100000,
          177000,
          200100,
          120000,
          200000,
          127000,
          475000,
          173000,
          135000,
          153337,
          286000,
          315000,
          184000,
          192000,
          130000,
          127000,
          148500,
          311872,
          235000,
          104000,
          274900,
          140000,
          171500,
          112000,
          149000,
          110000,
          180500,
          143900,
          141000,
          277000,
          145000,
          98000,
          186000,
          252678,
          156000,
          161750,
          134450,
          210000,
          107000,
          311500,
          167240,
          204900,
          200000,
          179900,
          97000,
          386250,
          112000,
          290000,
          106000,
          125000,
          192500,
          148000,
          403000,
          94500,
          128200,
          216500,
          89500,
          185500,
          194500,
          318000,
          113000,
          262500,
          110500,
          79000,
          120000,
          205000,
          241500,
          137000,
          140000,
          180000,
          277000,
          76500,
          235000,
          173000,
          158000,
          145000,
          230000,
          207500,
          220000,
          231500,
          97000,
          176000,
          276000,
          151000,
          130000,
          73000,
          175500,
          185000,
          179500,
          120500,
          148000,
          266000,
          241500,
          290000,
          139000,
          124500,
          205000,
          201000,
          141000,
          415298,
          192000,
          228500,
          185000,
          207500,
          244600,
          179200,
          164700,
          159000,
          88000,
          122000,
          153575,
          233230,
          135900,
          131000,
          235000,
          167000,
          142500,
          152000,
          239000,
          175000,
          158500,
          157000,
          267000,
          205000,
          149900,
          295000,
          305900,
          225000,
          89500,
          82500,
          360000,
          165600,
          132000,
          119900,
          375000,
          178000,
          188500,
          260000,
          270000,
          260000,
          187500,
          342643,
          354000,
          301000,
          126175,
          242000,
          87000,
          324000,
          145250,
          214500,
          78000,
          119000,
          139000,
          284000,
          207000,
          192000,
          228950,
          377426,
          214000,
          202500,
          155000,
          202900,
          82000,
          87500,
          266000,
          85000,
          140200,
          151500,
          157500,
          154000,
          437154,
          318061,
          190000,
          95000,
          105900,
          140000,
          177500,
          173000,
          134000,
          130000,
          280000,
          156000,
          145000,
          198500,
          118000,
          190000,
          147000,
          159000,
          165000,
          132000,
          162000,
          172400,
          134432,
          125000,
          123000,
          219500,
          61000,
          148000,
          340000,
          394432,
          179000,
          127000,
          187750,
          213500,
          76000,
          240000,
          192000,
          81000,
          125000,
          191000,
          426000,
          119000,
          215000,
          106500,
          100000,
          109000,
          129000,
          123000,
          169500,
          67000,
          241000,
          245500,
          164990,
          108000,
          258000,
          168000,
          150000,
          115000,
          177000,
          280000,
          339750,
          60000,
          145000,
          222000,
          115000,
          228000,
          181134,
          149500,
          239000,
          126000,
          142000,
          206300,
          215000,
          113000,
          315000,
          139000,
          135000,
          275000,
          109008,
          195400,
          175000,
          85400,
          79900,
          122500,
          181000,
          81000,
          212000,
          116000,
          119000,
          90350,
          110000,
          555000,
          118000,
          162900,
          172500,
          210000,
          127500,
          190000,
          199900,
          119500,
          120000,
          110000,
          280000,
          204000,
          210000,
          188000,
          175500,
          98000,
          256000,
          161000,
          110000,
          263435,
          155000,
          62383,
          188700,
          124000,
          178740,
          167000,
          146500,
          250000,
          187000,
          212000,
          190000,
          148000,
          440000,
          251000,
          132500,
          208900,
          380000,
          297000,
          89471,
          326000,
          374000,
          155000,
          164000,
          132500,
          147000,
          156000,
          175000,
          160000,
          86000,
          115000,
          133000,
          172785,
          155000,
          91300,
          34900,
          430000,
          184000,
          130000,
          120000,
          113000,
          226700,
          140000,
          289000,
          147000,
          124500,
          215000,
          208300,
          161000,
          124500,
          164900,
          202665,
          129900,
          134000,
          96500,
          402861,
          158000,
          265000,
          211000,
          234000,
          106250,
          150000,
          159000,
          184750,
          315750,
          176000,
          132000,
          446261,
          86000,
          200624,
          175000,
          128000,
          107500,
          39300,
          178000,
          107500,
          188000,
          111250,
          158000,
          272000,
          315000,
          248000,
          213250,
          133000,
          179665,
          229000,
          210000,
          129500,
          125000,
          263000,
          140000,
          112500,
          255500,
          108000,
          284000,
          113000,
          141000,
          108000,
          175000,
          234000,
          121500,
          170000,
          108000,
          185000,
          268000,
          128000,
          325000,
          214000,
          316600,
          135960,
          142600,
          120000,
          224500,
          170000,
          139000,
          118500,
          145000,
          164500,
          146000,
          131500,
          181900,
          253293,
          118500,
          325000,
          133000,
          369900,
          130000,
          137000,
          143000,
          79500,
          185900,
          451950,
          138000,
          140000,
          110000,
          319000,
          114504,
          194201,
          217500,
          151000,
          275000,
          141000,
          220000,
          151000,
          221000,
          205000,
          152000,
          225000,
          359100,
          118500,
          313000,
          148000,
          261500,
          147000,
          75500,
          137500,
          183200,
          105500,
          314813,
          305000,
          67000,
          240000,
          135000,
          168500,
          165150,
          160000,
          139900,
          153000,
          135000,
          168500,
          124000,
          209500,
          82500,
          139400,
          144000,
          200000,
          60000,
          93000,
          85000,
          264561,
          274000,
          226000,
          345000,
          152000,
          370878,
          143250,
          98300,
          155000,
          155000,
          84500,
          205950,
          108000,
          191000,
          135000,
          350000,
          88000,
          145500,
          149000,
          97500,
          167000,
          197900,
          402000,
          110000,
          137500,
          423000,
          230500,
          129000,
          193500,
          168000,
          137500,
          173500,
          103600,
          165000,
          257500,
          140000,
          148500,
          87000,
          109500,
          372500,
          128500,
          143000,
          159434,
          173000,
          285000,
          221000,
          207500,
          227875,
          148800,
          392000,
          194700,
          141000,
          755000,
          335000,
          108480,
          141500,
          176000,
          89000,
          123500,
          138500,
          196000,
          312500,
          140000,
          361919,
          140000,
          213000,
          55000,
          302000,
          254000,
          179540,
          109900,
          52000,
          102776,
          189000,
          129000,
          130500,
          165000,
          159500,
          157000,
          341000,
          128500,
          275000,
          143000,
          124500,
          135000,
          320000,
          120500,
          222000,
          194500,
          110000,
          103000,
          236500,
          187500,
          222500,
          131400,
          108000,
          163000,
          93500,
          239900,
          179000,
          190000,
          132000,
          142000,
          179000,
          175000,
          180000,
          299800,
          236000,
          265979,
          260400,
          98000,
          96500,
          162000,
          217000,
          275500,
          156000,
          172500,
          212000,
          158900,
          179400,
          290000,
          127500,
          100000,
          215200,
          337000,
          270000,
          264132,
          196500,
          160000,
          216837,
          538000,
          134900,
          102000,
          107000,
          114500,
          395000,
          162000,
          221500,
          142500,
          144000,
          135000,
          176000,
          175900,
          187100,
          165500,
          128000,
          161500,
          139000,
          233000,
          107900,
          187500,
          160200,
          146800,
          269790,
          225000,
          194500,
          171000,
          143500,
          110000,
          485000,
          175000,
          200000,
          109900,
          189000,
          582933,
          118000,
          227680,
          135500,
          223500,
          159950,
          106000,
          181000,
          144500,
          55993,
          157900,
          116000,
          224900,
          137000,
          271000,
          155000,
          224000,
          183000,
          93000,
          225000,
          139500,
          232600,
          385000,
          109500,
          189000,
          185000,
          147400,
          166000,
          151000,
          237000,
          167000,
          139950,
          128000,
          153500,
          100000,
          144000,
          130500,
          140000,
          157500,
          174900,
          141000,
          153900,
          171000,
          213000,
          133500,
          240000,
          187000,
          131500,
          215000,
          164000,
          158000,
          170000,
          127000,
          147000,
          174000,
          152000,
          250000,
          189950,
          131500,
          152000,
          132500,
          250580,
          148500,
          248900,
          129000,
          169000,
          236000,
          109500,
          200500,
          116000,
          133000,
          66500,
          303477,
          132250,
          350000,
          148000,
          136500,
          157000,
          187500,
          178000,
          118500,
          100000,
          328900,
          145000,
          135500,
          268000,
          149500,
          122900,
          172500,
          154500,
          165000,
          118858,
          140000,
          106500,
          142953,
          611657,
          135000,
          110000,
          153000,
          180000,
          240000,
          125500,
          128000,
          255000,
          250000,
          131000,
          174000,
          154300,
          143500,
          88000,
          145000,
          173733,
          75000,
          35311,
          135000,
          238000,
          176500,
          201000,
          145900,
          169990,
          193000,
          207500,
          175000,
          285000,
          176000,
          236500,
          222000,
          201000,
          117500,
          320000,
          190000,
          242000,
          79900,
          184900,
          253000,
          239799,
          244400,
          150900,
          214000,
          150000,
          143000,
          137500,
          124900,
          143000,
          270000,
          192500,
          197500,
          129000,
          119900,
          133900,
          172000,
          127500,
          145000,
          124000,
          132000,
          185000,
          155000,
          116500,
          272000,
          155000,
          239000,
          214900,
          178900,
          160000,
          135000,
          37900,
          140000,
          135000,
          173000,
          99500,
          182000,
          167500,
          165000,
          85500,
          199900,
          110000,
          139000,
          178400,
          336000,
          159895,
          255900,
          126000,
          125000,
          117000,
          395192,
          195000,
          197000,
          348000,
          168000,
          187000,
          173900,
          337500,
          121600,
          136500,
          185000,
          91000,
          206000,
          82000,
          86000,
          232000,
          136905,
          181000,
          149900,
          163500,
          88000,
          240000,
          102000,
          135000,
          100000,
          165000,
          85000,
          119200,
          227000,
          203000,
          187500,
          160000,
          213490,
          176000,
          194000,
          87000,
          191000,
          287000,
          112500,
          167500,
          293077,
          105000,
          118000,
          160000,
          197000,
          310000,
          230000,
          119750,
          84000,
          315500,
          287000,
          97000,
          80000,
          155000,
          173000,
          196000,
          262280,
          278000,
          139600,
          556581,
          145000,
          115000,
          84900,
          176485,
          200141,
          165000,
          144500,
          255000,
          180000,
          185850,
          248000,
          335000,
          220000,
          213500,
          81000,
          90000,
          110500,
          154000,
          328000,
          178000,
          167900,
          151400,
          135000,
          135000,
          154000,
          91500,
          159500,
          194000,
          219500,
          170000,
          138800,
          155900,
          126000,
          145000,
          133000,
          192000,
          160000,
          187500,
          147000,
          83500,
          252000,
          137500,
          197000,
          92900,
          160000,
          136500,
          146000,
          129000,
          176432,
          127000,
          170000,
          128000,
          157000,
          60000,
          119500,
          135000,
          159500,
          106000,
          325000,
          179900,
          274725,
          181000,
          280000,
          188000,
          205000,
          129900,
          134500,
          117000,
          318000,
          184100,
          130000,
          140000,
          133700,
          118400,
          212900,
          112000,
          118000,
          163900,
          115000,
          174000,
          259000,
          215000,
          140000,
          135000,
          93500,
          117500,
          239500,
          169000,
          102000,
          119000,
          94000,
          196000,
          144000,
          139000,
          197500,
          424870,
          80000,
          80000,
          149000,
          180000,
          174500,
          116900,
          143000,
          124000,
          149900,
          230000,
          120500,
          201800,
          218000,
          179900,
          230000,
          235128,
          185000,
          146000,
          224000,
          129000,
          108959,
          194000,
          233170,
          245350,
          173000,
          235000,
          625000,
          171000,
          163000,
          171900,
          200500,
          239000,
          285000,
          119500,
          115000,
          154900,
          93000,
          250000,
          392500,
          745000,
          120000,
          186700,
          104900,
          95000,
          262000,
          195000,
          189000,
          168000,
          174000,
          125000,
          165000,
          158000,
          176000,
          219210,
          144000,
          178000,
          148000,
          116050,
          197900,
          117000,
          213000,
          153500,
          271900,
          107000,
          200000,
          140000,
          290000,
          189000,
          164000,
          113000,
          145000,
          134500,
          125000,
          112000,
          229456,
          80500,
          91500,
          115000,
          134000,
          143000,
          137900,
          184000,
          145000,
          214000,
          147000,
          367294,
          127000,
          190000,
          132500,
          101800,
          142000,
          130000,
          138887,
          175500,
          195000,
          142500,
          265900,
          224900,
          248328,
          170000,
          465000,
          230000,
          178000,
          186500,
          169900,
          129500,
          119000,
          244000,
          171750,
          130000,
          294000,
          165400,
          127500,
          301500,
          99900,
          190000,
          151000,
          181000,
          128900,
          161500,
          180500,
          181000,
          183900,
          122000,
          378500,
          381000,
          144000,
          260000,
          185750,
          137000,
          177000,
          139000,
          137000,
          162000,
          197900,
          237000,
          68400,
          227000,
          180000,
          150500,
          139000,
          169000,
          132500,
          143000,
          190000,
          278000,
          281000,
          180500,
          119500,
          107500,
          162900,
          115000,
          138500,
          155000,
          140000,
          160000,
          154000,
          225000,
          177500,
          290000,
          232000,
          130000,
          325000,
          202500,
          138000,
          147000,
          179200,
          335000,
          203000,
          302000,
          333168,
          119000,
          206900,
          295493,
          208900,
          275000,
          111000,
          156500,
          72500,
          190000,
          82500,
          147000,
          55000,
          79000,
          130500,
          256000,
          176500,
          227000,
          132500,
          100000,
          125500,
          125000,
          167900,
          135000,
          52500,
          200000,
          128500,
          123000,
          155000,
          228500,
          177000,
          155835,
          108500,
          262500,
          283463,
          215000,
          122000,
          200000,
          171000,
          134900,
          410000,
          235000,
          170000,
          110000,
          149900,
          177500,
          315000,
          189000,
          260000,
          104900,
          156932,
          144152,
          216000,
          193000,
          127000,
          144000,
          232000,
          105000,
          165500,
          274300,
          466500,
          250000,
          239000,
          91000,
          117000,
          83000,
          167500,
          58500,
          237500,
          157000,
          112000,
          105000,
          125500,
          250000,
          136000,
          377500,
          131000,
          235000,
          124000,
          123000,
          163000,
          246578,
          281213,
          160000,
          137500,
          138000,
          137450,
          120000,
          193000,
          193879,
          282922,
          105000,
          275000,
          133000,
          112000,
          125500,
          215000,
          230000,
          140000,
          90000,
          257000,
          207000,
          175900,
          122500,
          340000,
          124000,
          223000,
          179900,
          127500,
          136500,
          274970,
          144000,
          142000,
          271000,
          140000,
          119000,
          182900,
          192140,
          143750,
          64500,
          186500,
          160000,
          174000,
          120500,
          394617,
          149700,
          197000,
          191000,
          149300,
          310000,
          121000,
          179600,
          129000,
          157900,
          240000,
          112000,
          92000,
          136000,
          287090,
          145000,
          84500,
          185000,
          175000,
          210000,
          266500,
          142125,
          147500
         ],
         "xaxis": "x",
         "yaxis": "y"
        }
       ],
       "layout": {
        "barmode": "relative",
        "legend": {
         "tracegroupgap": 0
        },
        "template": {
         "data": {
          "bar": [
           {
            "error_x": {
             "color": "#2a3f5f"
            },
            "error_y": {
             "color": "#2a3f5f"
            },
            "marker": {
             "line": {
              "color": "#E5ECF6",
              "width": 0.5
             },
             "pattern": {
              "fillmode": "overlay",
              "size": 10,
              "solidity": 0.2
             }
            },
            "type": "bar"
           }
          ],
          "barpolar": [
           {
            "marker": {
             "line": {
              "color": "#E5ECF6",
              "width": 0.5
             },
             "pattern": {
              "fillmode": "overlay",
              "size": 10,
              "solidity": 0.2
             }
            },
            "type": "barpolar"
           }
          ],
          "carpet": [
           {
            "aaxis": {
             "endlinecolor": "#2a3f5f",
             "gridcolor": "white",
             "linecolor": "white",
             "minorgridcolor": "white",
             "startlinecolor": "#2a3f5f"
            },
            "baxis": {
             "endlinecolor": "#2a3f5f",
             "gridcolor": "white",
             "linecolor": "white",
             "minorgridcolor": "white",
             "startlinecolor": "#2a3f5f"
            },
            "type": "carpet"
           }
          ],
          "choropleth": [
           {
            "colorbar": {
             "outlinewidth": 0,
             "ticks": ""
            },
            "type": "choropleth"
           }
          ],
          "contour": [
           {
            "colorbar": {
             "outlinewidth": 0,
             "ticks": ""
            },
            "colorscale": [
             [
              0,
              "#0d0887"
             ],
             [
              0.1111111111111111,
              "#46039f"
             ],
             [
              0.2222222222222222,
              "#7201a8"
             ],
             [
              0.3333333333333333,
              "#9c179e"
             ],
             [
              0.4444444444444444,
              "#bd3786"
             ],
             [
              0.5555555555555556,
              "#d8576b"
             ],
             [
              0.6666666666666666,
              "#ed7953"
             ],
             [
              0.7777777777777778,
              "#fb9f3a"
             ],
             [
              0.8888888888888888,
              "#fdca26"
             ],
             [
              1,
              "#f0f921"
             ]
            ],
            "type": "contour"
           }
          ],
          "contourcarpet": [
           {
            "colorbar": {
             "outlinewidth": 0,
             "ticks": ""
            },
            "type": "contourcarpet"
           }
          ],
          "heatmap": [
           {
            "colorbar": {
             "outlinewidth": 0,
             "ticks": ""
            },
            "colorscale": [
             [
              0,
              "#0d0887"
             ],
             [
              0.1111111111111111,
              "#46039f"
             ],
             [
              0.2222222222222222,
              "#7201a8"
             ],
             [
              0.3333333333333333,
              "#9c179e"
             ],
             [
              0.4444444444444444,
              "#bd3786"
             ],
             [
              0.5555555555555556,
              "#d8576b"
             ],
             [
              0.6666666666666666,
              "#ed7953"
             ],
             [
              0.7777777777777778,
              "#fb9f3a"
             ],
             [
              0.8888888888888888,
              "#fdca26"
             ],
             [
              1,
              "#f0f921"
             ]
            ],
            "type": "heatmap"
           }
          ],
          "heatmapgl": [
           {
            "colorbar": {
             "outlinewidth": 0,
             "ticks": ""
            },
            "colorscale": [
             [
              0,
              "#0d0887"
             ],
             [
              0.1111111111111111,
              "#46039f"
             ],
             [
              0.2222222222222222,
              "#7201a8"
             ],
             [
              0.3333333333333333,
              "#9c179e"
             ],
             [
              0.4444444444444444,
              "#bd3786"
             ],
             [
              0.5555555555555556,
              "#d8576b"
             ],
             [
              0.6666666666666666,
              "#ed7953"
             ],
             [
              0.7777777777777778,
              "#fb9f3a"
             ],
             [
              0.8888888888888888,
              "#fdca26"
             ],
             [
              1,
              "#f0f921"
             ]
            ],
            "type": "heatmapgl"
           }
          ],
          "histogram": [
           {
            "marker": {
             "pattern": {
              "fillmode": "overlay",
              "size": 10,
              "solidity": 0.2
             }
            },
            "type": "histogram"
           }
          ],
          "histogram2d": [
           {
            "colorbar": {
             "outlinewidth": 0,
             "ticks": ""
            },
            "colorscale": [
             [
              0,
              "#0d0887"
             ],
             [
              0.1111111111111111,
              "#46039f"
             ],
             [
              0.2222222222222222,
              "#7201a8"
             ],
             [
              0.3333333333333333,
              "#9c179e"
             ],
             [
              0.4444444444444444,
              "#bd3786"
             ],
             [
              0.5555555555555556,
              "#d8576b"
             ],
             [
              0.6666666666666666,
              "#ed7953"
             ],
             [
              0.7777777777777778,
              "#fb9f3a"
             ],
             [
              0.8888888888888888,
              "#fdca26"
             ],
             [
              1,
              "#f0f921"
             ]
            ],
            "type": "histogram2d"
           }
          ],
          "histogram2dcontour": [
           {
            "colorbar": {
             "outlinewidth": 0,
             "ticks": ""
            },
            "colorscale": [
             [
              0,
              "#0d0887"
             ],
             [
              0.1111111111111111,
              "#46039f"
             ],
             [
              0.2222222222222222,
              "#7201a8"
             ],
             [
              0.3333333333333333,
              "#9c179e"
             ],
             [
              0.4444444444444444,
              "#bd3786"
             ],
             [
              0.5555555555555556,
              "#d8576b"
             ],
             [
              0.6666666666666666,
              "#ed7953"
             ],
             [
              0.7777777777777778,
              "#fb9f3a"
             ],
             [
              0.8888888888888888,
              "#fdca26"
             ],
             [
              1,
              "#f0f921"
             ]
            ],
            "type": "histogram2dcontour"
           }
          ],
          "mesh3d": [
           {
            "colorbar": {
             "outlinewidth": 0,
             "ticks": ""
            },
            "type": "mesh3d"
           }
          ],
          "parcoords": [
           {
            "line": {
             "colorbar": {
              "outlinewidth": 0,
              "ticks": ""
             }
            },
            "type": "parcoords"
           }
          ],
          "pie": [
           {
            "automargin": true,
            "type": "pie"
           }
          ],
          "scatter": [
           {
            "fillpattern": {
             "fillmode": "overlay",
             "size": 10,
             "solidity": 0.2
            },
            "type": "scatter"
           }
          ],
          "scatter3d": [
           {
            "line": {
             "colorbar": {
              "outlinewidth": 0,
              "ticks": ""
             }
            },
            "marker": {
             "colorbar": {
              "outlinewidth": 0,
              "ticks": ""
             }
            },
            "type": "scatter3d"
           }
          ],
          "scattercarpet": [
           {
            "marker": {
             "colorbar": {
              "outlinewidth": 0,
              "ticks": ""
             }
            },
            "type": "scattercarpet"
           }
          ],
          "scattergeo": [
           {
            "marker": {
             "colorbar": {
              "outlinewidth": 0,
              "ticks": ""
             }
            },
            "type": "scattergeo"
           }
          ],
          "scattergl": [
           {
            "marker": {
             "colorbar": {
              "outlinewidth": 0,
              "ticks": ""
             }
            },
            "type": "scattergl"
           }
          ],
          "scattermapbox": [
           {
            "marker": {
             "colorbar": {
              "outlinewidth": 0,
              "ticks": ""
             }
            },
            "type": "scattermapbox"
           }
          ],
          "scatterpolar": [
           {
            "marker": {
             "colorbar": {
              "outlinewidth": 0,
              "ticks": ""
             }
            },
            "type": "scatterpolar"
           }
          ],
          "scatterpolargl": [
           {
            "marker": {
             "colorbar": {
              "outlinewidth": 0,
              "ticks": ""
             }
            },
            "type": "scatterpolargl"
           }
          ],
          "scatterternary": [
           {
            "marker": {
             "colorbar": {
              "outlinewidth": 0,
              "ticks": ""
             }
            },
            "type": "scatterternary"
           }
          ],
          "surface": [
           {
            "colorbar": {
             "outlinewidth": 0,
             "ticks": ""
            },
            "colorscale": [
             [
              0,
              "#0d0887"
             ],
             [
              0.1111111111111111,
              "#46039f"
             ],
             [
              0.2222222222222222,
              "#7201a8"
             ],
             [
              0.3333333333333333,
              "#9c179e"
             ],
             [
              0.4444444444444444,
              "#bd3786"
             ],
             [
              0.5555555555555556,
              "#d8576b"
             ],
             [
              0.6666666666666666,
              "#ed7953"
             ],
             [
              0.7777777777777778,
              "#fb9f3a"
             ],
             [
              0.8888888888888888,
              "#fdca26"
             ],
             [
              1,
              "#f0f921"
             ]
            ],
            "type": "surface"
           }
          ],
          "table": [
           {
            "cells": {
             "fill": {
              "color": "#EBF0F8"
             },
             "line": {
              "color": "white"
             }
            },
            "header": {
             "fill": {
              "color": "#C8D4E3"
             },
             "line": {
              "color": "white"
             }
            },
            "type": "table"
           }
          ]
         },
         "layout": {
          "annotationdefaults": {
           "arrowcolor": "#2a3f5f",
           "arrowhead": 0,
           "arrowwidth": 1
          },
          "autotypenumbers": "strict",
          "coloraxis": {
           "colorbar": {
            "outlinewidth": 0,
            "ticks": ""
           }
          },
          "colorscale": {
           "diverging": [
            [
             0,
             "#8e0152"
            ],
            [
             0.1,
             "#c51b7d"
            ],
            [
             0.2,
             "#de77ae"
            ],
            [
             0.3,
             "#f1b6da"
            ],
            [
             0.4,
             "#fde0ef"
            ],
            [
             0.5,
             "#f7f7f7"
            ],
            [
             0.6,
             "#e6f5d0"
            ],
            [
             0.7,
             "#b8e186"
            ],
            [
             0.8,
             "#7fbc41"
            ],
            [
             0.9,
             "#4d9221"
            ],
            [
             1,
             "#276419"
            ]
           ],
           "sequential": [
            [
             0,
             "#0d0887"
            ],
            [
             0.1111111111111111,
             "#46039f"
            ],
            [
             0.2222222222222222,
             "#7201a8"
            ],
            [
             0.3333333333333333,
             "#9c179e"
            ],
            [
             0.4444444444444444,
             "#bd3786"
            ],
            [
             0.5555555555555556,
             "#d8576b"
            ],
            [
             0.6666666666666666,
             "#ed7953"
            ],
            [
             0.7777777777777778,
             "#fb9f3a"
            ],
            [
             0.8888888888888888,
             "#fdca26"
            ],
            [
             1,
             "#f0f921"
            ]
           ],
           "sequentialminus": [
            [
             0,
             "#0d0887"
            ],
            [
             0.1111111111111111,
             "#46039f"
            ],
            [
             0.2222222222222222,
             "#7201a8"
            ],
            [
             0.3333333333333333,
             "#9c179e"
            ],
            [
             0.4444444444444444,
             "#bd3786"
            ],
            [
             0.5555555555555556,
             "#d8576b"
            ],
            [
             0.6666666666666666,
             "#ed7953"
            ],
            [
             0.7777777777777778,
             "#fb9f3a"
            ],
            [
             0.8888888888888888,
             "#fdca26"
            ],
            [
             1,
             "#f0f921"
            ]
           ]
          },
          "colorway": [
           "#636efa",
           "#EF553B",
           "#00cc96",
           "#ab63fa",
           "#FFA15A",
           "#19d3f3",
           "#FF6692",
           "#B6E880",
           "#FF97FF",
           "#FECB52"
          ],
          "font": {
           "color": "#2a3f5f"
          },
          "geo": {
           "bgcolor": "white",
           "lakecolor": "white",
           "landcolor": "#E5ECF6",
           "showlakes": true,
           "showland": true,
           "subunitcolor": "white"
          },
          "hoverlabel": {
           "align": "left"
          },
          "hovermode": "closest",
          "mapbox": {
           "style": "light"
          },
          "paper_bgcolor": "white",
          "plot_bgcolor": "#E5ECF6",
          "polar": {
           "angularaxis": {
            "gridcolor": "white",
            "linecolor": "white",
            "ticks": ""
           },
           "bgcolor": "#E5ECF6",
           "radialaxis": {
            "gridcolor": "white",
            "linecolor": "white",
            "ticks": ""
           }
          },
          "scene": {
           "xaxis": {
            "backgroundcolor": "#E5ECF6",
            "gridcolor": "white",
            "gridwidth": 2,
            "linecolor": "white",
            "showbackground": true,
            "ticks": "",
            "zerolinecolor": "white"
           },
           "yaxis": {
            "backgroundcolor": "#E5ECF6",
            "gridcolor": "white",
            "gridwidth": 2,
            "linecolor": "white",
            "showbackground": true,
            "ticks": "",
            "zerolinecolor": "white"
           },
           "zaxis": {
            "backgroundcolor": "#E5ECF6",
            "gridcolor": "white",
            "gridwidth": 2,
            "linecolor": "white",
            "showbackground": true,
            "ticks": "",
            "zerolinecolor": "white"
           }
          },
          "shapedefaults": {
           "line": {
            "color": "#2a3f5f"
           }
          },
          "ternary": {
           "aaxis": {
            "gridcolor": "white",
            "linecolor": "white",
            "ticks": ""
           },
           "baxis": {
            "gridcolor": "white",
            "linecolor": "white",
            "ticks": ""
           },
           "bgcolor": "#E5ECF6",
           "caxis": {
            "gridcolor": "white",
            "linecolor": "white",
            "ticks": ""
           }
          },
          "title": {
           "x": 0.05
          },
          "xaxis": {
           "automargin": true,
           "gridcolor": "white",
           "linecolor": "white",
           "ticks": "",
           "title": {
            "standoff": 15
           },
           "zerolinecolor": "white",
           "zerolinewidth": 2
          },
          "yaxis": {
           "automargin": true,
           "gridcolor": "white",
           "linecolor": "white",
           "ticks": "",
           "title": {
            "standoff": 15
           },
           "zerolinecolor": "white",
           "zerolinewidth": 2
          }
         }
        },
        "title": {
         "text": "SalePrice (raw)"
        },
        "xaxis": {
         "anchor": "y",
         "domain": [
          0,
          1
         ],
         "title": {
          "text": "SalePrice"
         }
        },
        "yaxis": {
         "anchor": "x",
         "domain": [
          0,
          1
         ],
         "title": {
          "text": "count"
         }
        }
       }
      }
     },
     "metadata": {},
     "output_type": "display_data"
    },
    {
     "data": {
      "application/vnd.plotly.v1+json": {
       "config": {
        "plotlyServerURL": "https://plot.ly"
       },
       "data": [
        {
         "alignmentgroup": "True",
         "bingroup": "x",
         "hovertemplate": "LogSalePrice=%{x}<br>count=%{y}<extra></extra>",
         "legendgroup": "",
         "marker": {
          "color": "#636efa",
          "pattern": {
           "shape": ""
          }
         },
         "name": "",
         "nbinsx": 40,
         "offsetgroup": "",
         "orientation": "v",
         "showlegend": false,
         "type": "histogram",
         "x": [
          12.24769911637256,
          12.109016442313738,
          12.317171167298682,
          11.849404844423074,
          12.429220196836383,
          11.870606902224587,
          12.634606283893019,
          12.206077645517674,
          11.774527900858468,
          11.678448377988165,
          11.771443882099637,
          12.75130259456002,
          11.87757552297847,
          12.540761149388421,
          11.964007453736912,
          11.790564777297387,
          11.91170829631447,
          11.407576060361786,
          11.976665770490767,
          11.842236406331555,
          12.692506186542177,
          11.845109950883979,
          12.345838935721968,
          11.774527900858468,
          11.944714374881176,
          12.454107814022272,
          11.811554895830454,
          12.631343648903034,
          12.242891437918386,
          11.134603622683905,
          10.596659732783579,
          11.914054519303125,
          12.100161978566867,
          12.016732516077072,
          12.533579815765737,
          12.6410997921206,
          11.884495917930655,
          11.938199736300925,
          11.599112335481124,
          11.314486721293981,
          11.982935344196433,
          12.04355959836804,
          11.87757552297847,
          11.777218637129327,
          11.856522261533737,
          12.675766851909591,
          12.387089184491993,
          12.428019481065613,
          11.635151947212842,
          11.751950239425476,
          12.083910661257521,
          11.648338835562747,
          11.608244735642321,
          12.861001210669146,
          11.775297421715827,
          12.103491596905931,
          12.058158312538197,
          12.188422799337028,
          12.991755706536901,
          11.735276702486741,
          11.970356641102999,
          11.522885696764481,
          12.218500103788143,
          11.849404844423074,
          12.299112067295642,
          12.666660207428574,
          12.100717685412471,
          12.328294703023394,
          11.289794413577894,
          12.323860125621126,
          12.404927602627597,
          11.771443882099637,
          12.128116509451258,
          11.88380602959621,
          11.58432477200052,
          11.418625774449596,
          11.818577604251555,
          11.751950239425476,
          11.824087219587643,
          11.608244735642321,
          12.173037959397275,
          11.941462360646149,
          12.409017571151187,
          11.748005492256807,
          12.034696963475044,
          12.468440756144114,
          12.066816325306588,
          12.010671928196443,
          11.350418300109132,
          11.724813914587886,
          11.60733523953139,
          11.498836682527127,
          12.004574385508691,
          11.804855999911272,
          12.229549885708273,
          12.128116509451258,
          12.273735966890268,
          11.459007676978688,
          11.326607934898927,
          11.767187766223199,
          12.230770136157428,
          12.08954444723597,
          11.68658461118553,
          12.200562492481511,
          12.040614105490253,
          12.429220196836383,
          11.51293546492023,
          11.652696102959753,
          11.652696102959753,
          12.154784614286667,
          11.827013315851762,
          12.100717685412471,
          12.85832230788469,
          12.28765724080691,
          12.466515835145202,
          12.07824495582233,
          11.842236406331555,
          11.951186847493476,
          12.676079399771027,
          12.0075668272517,
          12.100717685412471,
          11.51293546492023,
          11.820417517632333,
          11.944064817531656,
          12.10625783509458,
          11.344518647594766,
          11.759793355371237,
          11.373674891823535,
          11.951186847493476,
          11.918397239722838,
          12.328294703023394,
          12.404927602627597,
          11.923384748066601,
          12.301387370778713,
          12.100717685412471,
          12.066816325306588,
          11.870606902224587,
          12.049424683420915,
          12.345838935721968,
          12.352339472153524,
          11.652696102959753,
          12.468440756144114,
          12.019749091416921,
          12.225880174775122,
          11.736077016252437,
          11.775297421715827,
          11.561725152903833,
          12.312686874960354,
          11.856522261533737,
          11.652696102959753,
          11.711784520403112,
          12.827731880206521,
          12.154784614286667,
          12.367345048436391,
          11.736077016252437,
          11.277215789596893,
          11.603688960617083,
          12.504327379899443,
          12.448630513463613,
          12.676079399771027,
          11.998439434579149,
          12.929993908996359,
          12.301387370778713,
          11.544433821905134,
          11.931642378754141,
          11.755879486687116,
          12.154784614286667,
          12.693501691489768,
          12.119975396053194,
          12.337105293891872,
          11.763691965388299,
          12.278397958261774,
          12.384223015005313,
          12.001511614739405,
          12.122696471358964,
          12.400820837540556,
          12.259618151783465,
          12.058158312538197,
          13.126032637428713,
          11.51293546492023,
          12.083910661257521,
          12.206577518060588,
          11.695255355062795,
          12.206077645517674,
          11.751950239425476,
          13.07107218827772,
          12.06105265381003,
          11.813037464800539,
          11.940399914116648,
          12.563750586299374,
          12.660331092405906,
          12.122696471358964,
          12.165255859329688,
          11.775297421715827,
          11.751950239425476,
          11.908346971208951,
          12.650351332641707,
          12.367345048436391,
          11.552155793461898,
          12.524166311833152,
          11.849404844423074,
          12.052344376474922,
          11.626263078808801,
          11.91170829631447,
          11.608244735642321,
          12.103491596905931,
          11.87688084212164,
          11.856522261533737,
          12.531776395271262,
          11.884495917930655,
          11.49273296168228,
          12.133507329024972,
          12.439875187430008,
          11.957617696467539,
          11.993813394724253,
          11.808955099378537,
          12.25486757159303,
          11.580593459194764,
          12.649157827477366,
          12.027191164883384,
          12.230282214644559,
          12.206077645517674,
          12.100161978566867,
          11.48247656671073,
          12.864242696187505,
          11.626263078808801,
          12.577639650232573,
          11.571203807011969,
          11.736077016252437,
          12.167856627501678,
          11.904974309480183,
          12.90669432231532,
          11.456365695436427,
          11.761354623750297,
          12.285350445351659,
          11.402005077384885,
          12.130815551850676,
          12.178192583415596,
          12.669809806411457,
          11.635151947212842,
          12.47801017053037,
          11.612779849672751,
          11.277215789596893,
          11.695255355062795,
          12.230770136157428,
          12.394628892852941,
          11.827743504053695,
          11.849404844423074,
          12.100717685412471,
          12.531776395271262,
          11.245059091624615,
          12.367345048436391,
          12.06105265381003,
          11.970356641102999,
          11.884495917930655,
          12.345838935721968,
          12.242891437918386,
          12.301387370778713,
          12.352339472153524,
          11.48247656671073,
          12.07824495582233,
          12.52815976788113,
          11.92504173829169,
          11.775297421715827,
          11.19822841866684,
          12.075400019877522,
          12.128116509451258,
          12.097936057925594,
          11.699413330633599,
          11.904974309480183,
          12.491255347155265,
          12.394628892852941,
          12.577639650232573,
          11.842236406331555,
          11.732069026983156,
          12.230770136157428,
          12.211065162153215,
          11.856522261533737,
          12.936754021718041,
          12.165255859329688,
          12.339295865674435,
          12.128116509451258,
          12.242891437918386,
          12.407383590534293,
          12.09626335986454,
          12.011886987792716,
          11.976665770490767,
          11.385103457032141,
          11.711784520403112,
          11.941950837487406,
          12.359784657728284,
          11.819681958463892,
          11.782960235741939,
          12.367345048436391,
          12.025755079404917,
          11.86710429621008,
          11.931642378754141,
          12.384223015005313,
          12.07254696717504,
          11.973516181427835,
          11.964007453736912,
          12.495007682693725,
          12.230770136157428,
          11.917730355182513,
          12.59473402514672,
          12.631016799175821,
          12.323860125621126,
          11.402005077384885,
          11.320565693461432,
          12.793862088206213,
          12.017336559562407,
          11.790564777297387,
          11.694421681264394,
          12.834683971615659,
          12.08954444723597,
          12.146858590895919,
          12.468440756144114,
          12.506180941677357,
          12.468440756144114,
          12.141539457711714,
          12.74444728628135,
          12.777055016970678,
          12.614868865984631,
          11.745433036677353,
          12.396697137361691,
          11.373674891823535,
          12.688501881189456,
          11.886218559372042,
          12.276069679344003,
          11.264476926102367,
          11.686887175419702,
          11.842236406331555,
          12.556733038263905,
          12.240478903153711,
          12.165255859329688,
          12.34126328584159,
          12.841132451487937,
          12.273735966890268,
          12.218500103788143,
          11.951186847493476,
          12.220473454337986,
          11.314486721293981,
          11.37940550085183,
          12.491255347155265,
          11.350418300109132,
          11.850832386224807,
          11.928347504569842,
          11.967187086434018,
          11.944714374881176,
          12.988043102265232,
          12.670001611311875,
          12.154784614286667,
          11.461642696843066,
          11.570259974415547,
          11.849404844423074,
          12.086731521684555,
          12.06105265381003,
          11.80560254159177,
          11.775297421715827,
          12.54254845357358,
          11.957617696467539,
          11.884495917930655,
          12.198549416880068,
          11.678448377988165,
          12.154784614286667,
          11.898194668458823,
          11.976665770490767,
          12.013706813470414,
          11.790564777297387,
          11.995357787034976,
          12.057578437658945,
          11.808821212646512,
          11.736077016252437,
          11.719947764402807,
          12.299112067295642,
          11.0186455364637,
          11.904974309480183,
          12.73670383776449,
          12.885204569609956,
          12.095146671399466,
          11.751950239425476,
          12.142871895843887,
          12.271396795480596,
          11.23850177707664,
          12.388398368982115,
          12.165255859329688,
          11.302216779257382,
          11.736077016252437,
          12.160033942617156,
          12.962196972666593,
          11.686887175419702,
          12.278397958261774,
          11.575909653758895,
          11.51293546492023,
          11.599112335481124,
          11.767575435251748,
          11.719947764402807,
          12.040614105490253,
          11.112462823634855,
          12.392556361841777,
          12.411056299528171,
          12.013646205940514,
          11.58989576532275,
          12.460718739865236,
          12.031725210748633,
          11.918397239722838,
          11.652696102959753,
          12.083910661257521,
          12.54254845357358,
          12.73596827534975,
          11.002116507732017,
          11.884495917930655,
          12.310437165348775,
          11.652696102959753,
          12.337105293891872,
          12.106997888588934,
          11.915058360753719,
          12.384223015005313,
          11.744045122410057,
          11.863589378812122,
          12.237091546357338,
          12.278397958261774,
          11.635151947212842,
          12.660331092405906,
          11.842236406331555,
          11.813037464800539,
          12.524530013005734,
          11.599185726610004,
          12.182809136284991,
          12.07254696717504,
          11.355113089309977,
          11.288543647320601,
          11.715874472198905,
          12.10625783509458,
          11.302216779257382,
          12.264346270624157,
          11.661354090741,
          11.686887175419702,
          11.411457364027745,
          11.608244735642321,
          13.22672519452875,
          11.678448377988165,
          12.000897933306716,
          12.058158312538197,
          12.25486757159303,
          11.755879486687116,
          12.154784614286667,
          12.20557752297723,
          11.691080018519527,
          11.695255355062795,
          11.608244735642321,
          12.54254845357358,
          12.225880174775122,
          12.25486757159303,
          12.144202560946876,
          12.075400019877522,
          11.49273296168228,
          12.45293662970407,
          11.989165855127435,
          11.608244735642321,
          12.481565733211923,
          11.951186847493476,
          11.04106411122238,
          12.147919030759663,
          11.728044909070785,
          12.093693109638318,
          12.025755079404917,
          11.89478753335453,
          12.429220196836383,
          12.138869243416009,
          12.264346270624157,
          12.154784614286667,
          11.904974309480183,
          12.994532278619134,
          12.433212202169729,
          11.794345471549745,
          12.249615734512616,
          12.847929163278053,
          12.601490784782536,
          11.401681006153428,
          12.694655727828803,
          12.832013750189885,
          11.951186847493476,
          12.00762780434872,
          11.794345471549745,
          11.898194668458823,
          11.957617696467539,
          12.07254696717504,
          11.982935344196433,
          11.362114203075018,
          11.652696102959753,
          11.798111925972618,
          12.059809113551397,
          11.951186847493476,
          11.421917019425596,
          10.460270761075149,
          12.971542813248437,
          12.122696471358964,
          11.775297421715827,
          11.695255355062795,
          11.635151947212842,
          12.331387247601905,
          11.849404844423074,
          12.574185427296195,
          11.898194668458823,
          11.732069026983156,
          12.278397958261774,
          12.246739428005663,
          11.989165855127435,
          11.732069026983156,
          12.013100572810686,
          12.2193145828011,
          11.774527900858468,
          11.80560254159177,
          11.477308649967686,
          12.90634935052389,
          11.970356641102999,
          12.487488878546145,
          12.259618151783465,
          12.36308066783498,
          11.573559498507079,
          11.918397239722838,
          11.976665770490767,
          12.126764251515691,
          12.662709207270272,
          12.07824495582233,
          11.790564777297387,
          13.008661502470739,
          11.362114203075018,
          12.209192772866418,
          12.07254696717504,
          11.759793355371237,
          11.58525542883217,
          10.579005242826247,
          12.08954444723597,
          11.58525542883217,
          12.144202560946876,
          11.619544188752133,
          11.970356641102999,
          12.513561021741964,
          12.660331092405906,
          12.421188057397055,
          12.270225154674701,
          11.798111925972618,
          12.098854850641,
          12.34148164933907,
          12.25486757159303,
          11.771443882099637,
          11.736077016252437,
          12.479913113434042,
          11.849404844423074,
          11.630717389475995,
          12.450981602512561,
          11.58989576532275,
          12.556733038263905,
          11.635151947212842,
          11.856522261533737,
          11.58989576532275,
          12.07254696717504,
          12.36308066783498,
          11.707677772181546,
          12.04355959836804,
          11.58989576532275,
          12.128116509451258,
          12.498745990829315,
          11.759793355371237,
          12.691583538230217,
          12.273735966890268,
          12.665397584983758,
          11.820123358887447,
          11.867805799560465,
          11.695255355062795,
          12.32163544049751,
          12.04355959836804,
          11.842236406331555,
          11.682676678340282,
          11.884495917930655,
          12.010671928196443,
          11.891368749982085,
          11.78676973513378,
          12.111217862017215,
          12.442306148381938,
          11.682676678340282,
          12.691583538230217,
          11.798111925972618,
          12.820990681250251,
          11.775297421715827,
          11.827743504053695,
          11.870606902224587,
          11.283524879179666,
          12.132969552931216,
          13.02132904585825,
          11.835016210489899,
          11.849404844423074,
          11.608244735642321,
          12.672949516558306,
          11.648373769145277,
          12.176654133447505,
          12.289958727201455,
          11.92504173829169,
          12.524530013005734,
          11.856522261533737,
          12.301387370778713,
          11.92504173829169,
          12.30592250537653,
          12.230770136157428,
          11.931642378754141,
          12.323860125621126,
          12.791358964949923,
          11.682676678340282,
          12.653961664405365,
          11.904974309480183,
          12.474193386571581,
          11.898194668458823,
          11.231901180182515,
          11.83138646878959,
          12.118339189722553,
          11.566475710526321,
          12.659737267217572,
          12.628070334272698,
          11.112462823634855,
          12.388398368982115,
          11.813037464800539,
          12.034696963475044,
          12.014615485902027,
          11.982935344196433,
          11.848690308590857,
          11.938199736300925,
          11.813037464800539,
          12.034696963475044,
          11.728044909070785,
          12.252483791602627,
          11.320565693461432,
          11.845109950883979,
          11.87757552297847,
          12.206077645517674,
          11.002116507732017,
          11.440365524765756,
          11.350418300109132,
          12.485830907348902,
          12.520887034998584,
          12.328294703023394,
          12.75130259456002,
          11.931642378754141,
          12.823631142839984,
          11.872353615355413,
          11.495789479023493,
          11.951186847493476,
          11.951186847493476,
          11.344518647594766,
          12.235393555399902,
          11.58989576532275,
          12.160033942617156,
          11.813037464800539,
          12.765691290604371,
          11.385103457032141,
          11.8879382384223,
          11.91170829631447,
          11.487617913343598,
          12.025755079404917,
          12.19552218463499,
          12.904209855160254,
          11.608244735642321,
          11.83138646878959,
          12.955129822091815,
          12.348010479804223,
          11.767575435251748,
          12.173037959397275,
          12.031725210748633,
          11.83138646878959,
          12.063938642041201,
          11.548302261270587,
          12.013706813470414,
          12.458778882573533,
          11.849404844423074,
          11.908346971208951,
          11.373674891823535,
          11.603688960617083,
          12.827995001361906,
          11.763691965388299,
          11.870606902224587,
          11.979391594635791,
          12.06105265381003,
          12.560247968016562,
          12.30592250537653,
          12.242891437918386,
          12.336556900342153,
          11.910365121788654,
          12.879019669789754,
          12.179220327453931,
          11.856522261533737,
          13.534474352733596,
          12.721888795877375,
          11.59433032142082,
          11.860062063178267,
          12.07824495582233,
          11.39640288460621,
          11.724004532183379,
          11.83863282480007,
          12.185875040240456,
          12.652362948153474,
          11.849404844423074,
          12.799178471909892,
          11.849404844423074,
          12.269052139516223,
          10.915106645867503,
          12.618185607609803,
          12.445093483000798,
          12.09815887308463,
          11.60733523953139,
          10.859018228147887,
          11.54031687156214,
          12.149507585033072,
          11.767575435251748,
          11.779136168550774,
          12.013706813470414,
          11.979805470779858,
          11.964007453736912,
          12.739640688812674,
          11.763691965388299,
          12.524530013005734,
          11.870606902224587,
          11.732069026983156,
          11.813037464800539,
          12.676079399771027,
          11.699413330633599,
          12.310437165348775,
          12.178192583415596,
          11.608244735642321,
          11.542493975902508,
          12.373707715234994,
          12.141539457711714,
          12.312686874960354,
          11.786008995353765,
          11.58989576532275,
          12.001511614739405,
          11.445727410406752,
          12.3879816172226,
          12.095146671399466,
          12.154784614286667,
          11.790564777297387,
          11.863589378812122,
          12.095146671399466,
          12.07254696717504,
          12.100717685412471,
          12.61087420020211,
          12.371591321286905,
          12.491176396967154,
          12.469978029554953,
          11.49273296168228,
          11.477308649967686,
          11.995357787034976,
          12.28765724080691,
          12.526346537332584,
          11.957617696467539,
          12.058158312538197,
          12.264346270624157,
          11.97603664577121,
          12.097378802727306,
          12.577639650232573,
          11.755879486687116,
          11.51293546492023,
          12.279327754099118,
          12.727841176689147,
          12.506180941677357,
          12.484208043148733,
          12.188422799337028,
          11.982935344196433,
          12.28690580994122,
          13.195615697878253,
          11.812296455066814,
          11.532737896139919,
          11.580593459194764,
          11.648338835562747,
          12.886643575525625,
          11.995357787034976,
          12.308182383129823,
          11.86710429621008,
          11.87757552297847,
          11.813037464800539,
          12.07824495582233,
          12.077676615757813,
          12.139403856983334,
          12.016732516077072,
          11.759793355371237,
          11.992266613576142,
          11.842236406331555,
          12.358798024384122,
          11.588969419043872,
          12.141539457711714,
          11.984184555794167,
          11.896833207128452,
          12.505402864156405,
          12.323860125621126,
          12.178192583415596,
          12.049424683420915,
          11.874097282798648,
          11.608244735642321,
          13.091906231773164,
          12.07254696717504,
          12.206077645517674,
          11.60733523953139,
          12.149507585033072,
          13.275829251377,
          11.678448377988165,
          12.335700805443338,
          11.816734299348461,
          12.317171167298682,
          11.982622797311857,
          11.571203807011969,
          12.10625783509458,
          11.881041706925902,
          10.932999821119937,
          11.969723533345908,
          11.661354090741,
          12.323415584358154,
          11.827743504053695,
          12.509877789891931,
          11.951186847493476,
          12.319405795112926,
          12.117246896289503,
          11.440365524765756,
          12.323860125621126,
          11.845827048676645,
          12.357079818283598,
          12.861001210669146,
          11.603688960617083,
          12.149507585033072,
          12.128116509451258,
          11.900912042974875,
          12.019749091416921,
          11.92504173829169,
          12.37581963951765,
          12.025755079404917,
          11.849047640327147,
          11.759793355371237,
          11.941462360646149,
          11.51293546492023,
          11.87757552297847,
          11.779136168550774,
          11.849404844423074,
          11.967187086434018,
          12.071975378543236,
          11.856522261533737,
          11.944064817531656,
          12.049424683420915,
          12.269052139516223,
          11.80186424743109,
          12.388398368982115,
          12.138869243416009,
          11.78676973513378,
          12.278397958261774,
          12.00762780434872,
          11.970356641102999,
          12.04355959836804,
          11.751950239425476,
          11.898194668458823,
          12.066816325306588,
          11.931642378754141,
          12.429220196836383,
          12.154521423145216,
          11.78676973513378,
          11.931642378754141,
          11.794345471549745,
          12.43153750053306,
          11.908346971208951,
          12.424810506025395,
          11.767575435251748,
          12.037659911047468,
          12.371591321286905,
          11.603688960617083,
          12.208574513247495,
          11.661354090741,
          11.798111925972618,
          11.104972264124868,
          12.623064399210183,
          11.792456911128632,
          12.765691290604371,
          11.904974309480183,
          11.824087219587643,
          11.964007453736912,
          12.141539457711714,
          12.08954444723597,
          11.682676678340282,
          11.51293546492023,
          12.70351207261035,
          11.884495917930655,
          11.816734299348461,
          12.498745990829315,
          11.915058360753719,
          11.719134432217524,
          12.058158312538197,
          11.947955847790901,
          12.013706813470414,
          11.685693195625964,
          11.849404844423074,
          11.575909653758895,
          11.870278179170796,
          13.323928581764989,
          11.813037464800539,
          11.608244735642321,
          11.938199736300925,
          12.100717685412471,
          12.388398368982115,
          11.74006900564972,
          11.759793355371237,
          12.449022745701502,
          12.429220196836383,
          11.782960235741939,
          12.066816325306588,
          11.946660519211651,
          11.874097282798648,
          11.385103457032141,
          11.884495917930655,
          12.065280672855897,
          11.225256725762893,
          10.471978128496518,
          11.813037464800539,
          12.380030154325457,
          12.081081821061819,
          12.211065162153215,
          11.890683588496984,
          12.043500773454495,
          12.170450649220749,
          12.242891437918386,
          12.07254696717504,
          12.560247968016562,
          12.07824495582233,
          12.373707715234994,
          12.310437165348775,
          12.211065162153215,
          11.674202123168433,
          12.676079399771027,
          12.154784614286667,
          12.396697137361691,
          11.288543647320601,
          12.127575825689417,
          12.441148720271016,
          12.387560521575551,
          12.406565597924235,
          11.924379271639218,
          12.273735966890268,
          11.918397239722838,
          11.870606902224587,
          11.83138646878959,
          11.735276702486741,
          11.870606902224587,
          12.506180941677357,
          12.167856627501678,
          12.193498926601634,
          11.767575435251748,
          11.694421681264394,
          11.804855999911272,
          12.055255569732177,
          11.755879486687116,
          11.884495917930655,
          11.728044909070785,
          11.790564777297387,
          12.128116509451258,
          11.951186847493476,
          11.665655135642039,
          12.513561021741964,
          11.951186847493476,
          12.384223015005313,
          12.277932735946903,
          12.094587859196112,
          11.982935344196433,
          11.813037464800539,
          10.542732775946709,
          11.849404844423074,
          11.813037464800539,
          12.06105265381003,
          11.507922973347437,
          12.111767460549332,
          12.02874460037869,
          12.013706813470414,
          11.356283350762888,
          12.20557752297723,
          11.608244735642321,
          11.842236406331555,
          12.091789104493502,
          12.724869415131389,
          11.982278882874377,
          12.45254592991672,
          11.744045122410057,
          11.736077016252437,
          11.669937760751914,
          12.887129532148373,
          12.180759965737863,
          12.190964083849375,
          12.759960632315702,
          12.031725210748633,
          12.138869243416009,
          12.066241450757124,
          12.729323752253295,
          11.7085004721646,
          11.824087219587643,
          12.128116509451258,
          11.418625774449596,
          12.235636302128867,
          11.314486721293981,
          11.362114203075018,
          12.354496960983985,
          11.827049837927534,
          12.10625783509458,
          11.917730355182513,
          12.004574385508691,
          11.385103457032141,
          12.388398368982115,
          11.532737896139919,
          11.813037464800539,
          11.51293546492023,
          12.013706813470414,
          11.350418300109132,
          11.688566422839942,
          12.33270970174018,
          12.220966184120165,
          12.141539457711714,
          11.982935344196433,
          12.271349956195543,
          12.07824495582233,
          12.175618592671356,
          11.373674891823535,
          12.160033942617156,
          12.567240979056246,
          11.630717389475995,
          12.02874460037869,
          12.588194064175278,
          11.561725152903833,
          11.678448377988165,
          11.982935344196433,
          12.190964083849375,
          12.644330802262578,
          12.345838935721968,
          11.693169865968983,
          11.338583982516495,
          12.66191713053049,
          12.567240979056246,
          11.48247656671073,
          11.289794413577894,
          11.951186847493476,
          12.06105265381003,
          12.185875040240456,
          12.47717172708952,
          12.535379989788607,
          11.846543632608535,
          13.229569788348705,
          11.884495917930655,
          11.652696102959753,
          11.349241150793087,
          12.080996832096167,
          12.206782393599413,
          12.013706813470414,
          11.881041706925902,
          12.449022745701502,
          12.100717685412471,
          12.13270055639427,
          12.421188057397055,
          12.721888795877375,
          12.301387370778713,
          12.271396795480596,
          11.302216779257382,
          11.407576060361786,
          11.612779849672751,
          11.944714374881176,
          12.700771936142122,
          12.08954444723597,
          12.031129798974042,
          11.927687224983487,
          11.813037464800539,
          11.813037464800539,
          11.944714374881176,
          11.424105180165641,
          11.979805470779858,
          12.175618592671356,
          12.299112067295642,
          12.04355959836804,
          11.840796531639839,
          11.956976469393481,
          11.744045122410057,
          11.884495917930655,
          11.798111925972618,
          12.165255859329688,
          11.982935344196433,
          12.141539457711714,
          11.898194668458823,
          11.332613886815139,
          12.437188334739655,
          11.83138646878959,
          12.190964083849375,
          11.439289689006644,
          11.982935344196433,
          11.824087219587643,
          11.891368749982085,
          11.767575435251748,
          12.080696479888447,
          11.751950239425476,
          12.04355959836804,
          11.759793355371237,
          11.964007453736912,
          11.002116507732017,
          11.691080018519527,
          11.813037464800539,
          11.979805470779858,
          11.571203807011969,
          12.691583538230217,
          12.100161978566867,
          12.52352951631214,
          12.10625783509458,
          12.54254845357358,
          12.144202560946876,
          12.230770136157428,
          11.774527900858468,
          11.80932691294063,
          11.669937760751914,
          12.669809806411457,
          12.123239799036943,
          11.775297421715827,
          11.849404844423074,
          11.803361242493628,
          11.681832447342321,
          12.268582547911404,
          11.626263078808801,
          11.678448377988165,
          12.007017865994577,
          11.652696102959753,
          12.066816325306588,
          12.464587201678082,
          12.278397958261774,
          11.849404844423074,
          11.813037464800539,
          11.445727410406752,
          11.674202123168433,
          12.386312871189734,
          12.037659911047468,
          11.532737896139919,
          11.686887175419702,
          11.451060699493427,
          12.185875040240456,
          11.87757552297847,
          11.842236406331555,
          12.193498926601634,
          12.959540872420414,
          11.289794413577894,
          11.289794413577894,
          11.91170829631447,
          12.100717685412471,
          12.069685751267224,
          11.669082701743504,
          11.870606902224587,
          11.728044909070785,
          11.917730355182513,
          12.345838935721968,
          11.699413330633599,
          12.215037342290755,
          12.292254928916668,
          12.100161978566867,
          12.345838935721968,
          12.367889578686164,
          12.128116509451258,
          11.891368749982085,
          12.319405795112926,
          11.767575435251748,
          11.59873612138334,
          12.175618592671356,
          12.359527368950229,
          12.41044511731981,
          12.06105265381003,
          12.367345048436391,
          13.345508528717259,
          12.049424683420915,
          12.001511614739405,
          12.05467400868968,
          12.208574513247495,
          12.384223015005313,
          12.560247968016562,
          11.691080018519527,
          11.652696102959753,
          11.950541482162043,
          11.440365524765756,
          12.429220196836383,
          12.880294363972055,
          13.521140839642674,
          11.695255355062795,
          12.137263685701864,
          11.560772327227417,
          11.461642696843066,
          12.476103599529843,
          12.180759965737863,
          12.149507585033072,
          12.031725210748633,
          12.066816325306588,
          11.736077016252437,
          12.013706813470414,
          11.970356641102999,
          12.07824495582233,
          12.29779001527865,
          11.87757552297847,
          12.08954444723597,
          11.904974309480183,
          11.6617850286409,
          12.19552218463499,
          11.669937760751914,
          12.269052139516223,
          11.941462360646149,
          12.513193308436527,
          11.580593459194764,
          12.206077645517674,
          11.849404844423074,
          12.577639650232573,
          12.149507585033072,
          12.00762780434872,
          11.635151947212842,
          11.884495917930655,
          11.80932691294063,
          11.736077016252437,
          11.626263078808801,
          12.343470927093518,
          11.296024885689746,
          11.424105180165641,
          11.652696102959753,
          11.80560254159177,
          11.870606902224587,
          11.834291315386718,
          12.122696471358964,
          11.884495917930655,
          12.273735966890268,
          11.898194668458823,
          12.813920618864572,
          11.751950239425476,
          12.154784614286667,
          11.794345471549745,
          11.530775206233024,
          11.863589378812122,
          11.775297421715827,
          11.841423131921784,
          12.075400019877522,
          12.180759965737863,
          11.86710429621008,
          12.490879338036375,
          12.323415584358154,
          12.42250975887691,
          12.04355959836804,
          13.049794835104816,
          12.345838935721968,
          12.08954444723597,
          12.136191879981927,
          12.042971193457888,
          11.771443882099637,
          11.686887175419702,
          12.404927602627597,
          12.053801032483948,
          11.775297421715827,
          12.591338447675579,
          12.016128107502665,
          11.755879486687116,
          12.616528611893463,
          11.511934974596555,
          12.154784614286667,
          11.92504173829169,
          12.10625783509458,
          11.766799946849087,
          11.992266613576142,
          12.103491596905931,
          12.10625783509458,
          12.12215284831553,
          11.711784520403112,
          12.843973993864076,
          12.850557278777309,
          11.87757552297847,
          12.468440756144114,
          12.132162346145595,
          11.827743504053695,
          12.083910661257521,
          11.842236406331555,
          11.827743504053695,
          11.995357787034976,
          12.19552218463499,
          12.37581963951765,
          11.133142723386813,
          12.33270970174018,
          12.100717685412471,
          11.921725007667265,
          11.842236406331555,
          12.037659911047468,
          11.794345471549745,
          11.870606902224587,
          12.154784614286667,
          12.535379989788607,
          12.546113507028412,
          12.103491596905931,
          11.691080018519527,
          11.58525542883217,
          12.000897933306716,
          11.652696102959753,
          11.83863282480007,
          11.951186847493476,
          11.849404844423074,
          11.982935344196433,
          11.944714374881176,
          12.323860125621126,
          12.086731521684555,
          12.577639650232573,
          12.354496960983985,
          11.775297421715827,
          12.691583538230217,
          12.218500103788143,
          11.835016210489899,
          11.898194668458823,
          12.09626335986454,
          12.721888795877375,
          12.220966184120165,
          12.618185607609803,
          12.716405147731708,
          11.686887175419702,
          12.239995696974733,
          12.596403811053621,
          12.249615734512616,
          12.524530013005734,
          11.6172944892629,
          11.960817678718287,
          11.19135563385109,
          12.154784614286667,
          11.320565693461432,
          11.898194668458823,
          10.915106645867503,
          11.277215789596893,
          11.779136168550774,
          12.45293662970407,
          12.081081821061819,
          12.33270970174018,
          11.794345471549745,
          11.51293546492023,
          11.74006900564972,
          11.736077016252437,
          12.031129798974042,
          11.813037464800539,
          10.868587496017359,
          12.206077645517674,
          11.763691965388299,
          11.719947764402807,
          11.951186847493476,
          12.339295865674435,
          12.083910661257521,
          11.95655945119582,
          11.59451466851004,
          12.47801017053037,
          12.554840409959793,
          12.278397958261774,
          11.711784520403112,
          12.206077645517674,
          12.049424683420915,
          11.812296455066814,
          12.923914877701906,
          12.367345048436391,
          12.04355959836804,
          11.608244735642321,
          11.917730355182513,
          12.086731521684555,
          12.660331092405906,
          12.149507585033072,
          12.468440756144114,
          11.560772327227417,
          11.963574241653713,
          11.878630514504515,
          12.283038316285214,
          12.170450649220749,
          11.751950239425476,
          11.87757552297847,
          12.354496960983985,
          11.561725152903833,
          12.016732516077072,
          12.521981322562505,
          13.05301544288996,
          12.429220196836383,
          12.384223015005313,
          11.418625774449596,
          11.669937760751914,
          11.326607934898927,
          12.02874460037869,
          10.97679912709094,
          12.377927112974284,
          11.964007453736912,
          11.626263078808801,
          11.561725152903833,
          11.74006900564972,
          12.429220196836383,
          11.820417517632333,
          12.84132849667433,
          11.782960235741939,
          12.367345048436391,
          11.728044909070785,
          11.719947764402807,
          12.001511614739405,
          12.415437707935368,
          12.546871224308068,
          11.982935344196433,
          11.83138646878959,
          11.835016210489899,
          11.831022768939789,
          11.695255355062795,
          12.170450649220749,
          12.174994689959313,
          12.552930054797935,
          11.561725152903833,
          12.524530013005734,
          11.798111925972618,
          11.626263078808801,
          11.74006900564972,
          12.278397958261774,
          12.345838935721968,
          11.849404844423074,
          11.407576060361786,
          12.456835254920371,
          12.240478903153711,
          12.077676615757813,
          11.715874472198905,
          12.73670383776449,
          11.728044909070785,
          12.314931534737134,
          12.100161978566867,
          11.755879486687116,
          11.824087219587643,
          12.524420916542532,
          11.87757552297847,
          11.863589378812122,
          12.509877789891931,
          11.849404844423074,
          11.686887175419702,
          12.116700301832573,
          12.165984756488543,
          11.87583791515714,
          11.07443600653965,
          12.136191879981927,
          11.982935344196433,
          12.066816325306588,
          11.699413330633599,
          12.885673487343764,
          11.916395250412128,
          12.190964083849375,
          12.160033942617156,
          11.913719681428494,
          12.644330802262578,
          11.703554089007538,
          12.098493002763465,
          11.767575435251748,
          11.969723533345908,
          12.388398368982115,
          11.626263078808801,
          11.429554725537322,
          11.820417517632333,
          12.567554517655415,
          11.884495917930655,
          11.344518647594766,
          12.128116509451258,
          12.07254696717504,
          12.25486757159303,
          12.493133274926212,
          11.864469267087891,
          11.901590234400047
         ],
         "xaxis": "x",
         "yaxis": "y"
        }
       ],
       "layout": {
        "barmode": "relative",
        "legend": {
         "tracegroupgap": 0
        },
        "template": {
         "data": {
          "bar": [
           {
            "error_x": {
             "color": "#2a3f5f"
            },
            "error_y": {
             "color": "#2a3f5f"
            },
            "marker": {
             "line": {
              "color": "#E5ECF6",
              "width": 0.5
             },
             "pattern": {
              "fillmode": "overlay",
              "size": 10,
              "solidity": 0.2
             }
            },
            "type": "bar"
           }
          ],
          "barpolar": [
           {
            "marker": {
             "line": {
              "color": "#E5ECF6",
              "width": 0.5
             },
             "pattern": {
              "fillmode": "overlay",
              "size": 10,
              "solidity": 0.2
             }
            },
            "type": "barpolar"
           }
          ],
          "carpet": [
           {
            "aaxis": {
             "endlinecolor": "#2a3f5f",
             "gridcolor": "white",
             "linecolor": "white",
             "minorgridcolor": "white",
             "startlinecolor": "#2a3f5f"
            },
            "baxis": {
             "endlinecolor": "#2a3f5f",
             "gridcolor": "white",
             "linecolor": "white",
             "minorgridcolor": "white",
             "startlinecolor": "#2a3f5f"
            },
            "type": "carpet"
           }
          ],
          "choropleth": [
           {
            "colorbar": {
             "outlinewidth": 0,
             "ticks": ""
            },
            "type": "choropleth"
           }
          ],
          "contour": [
           {
            "colorbar": {
             "outlinewidth": 0,
             "ticks": ""
            },
            "colorscale": [
             [
              0,
              "#0d0887"
             ],
             [
              0.1111111111111111,
              "#46039f"
             ],
             [
              0.2222222222222222,
              "#7201a8"
             ],
             [
              0.3333333333333333,
              "#9c179e"
             ],
             [
              0.4444444444444444,
              "#bd3786"
             ],
             [
              0.5555555555555556,
              "#d8576b"
             ],
             [
              0.6666666666666666,
              "#ed7953"
             ],
             [
              0.7777777777777778,
              "#fb9f3a"
             ],
             [
              0.8888888888888888,
              "#fdca26"
             ],
             [
              1,
              "#f0f921"
             ]
            ],
            "type": "contour"
           }
          ],
          "contourcarpet": [
           {
            "colorbar": {
             "outlinewidth": 0,
             "ticks": ""
            },
            "type": "contourcarpet"
           }
          ],
          "heatmap": [
           {
            "colorbar": {
             "outlinewidth": 0,
             "ticks": ""
            },
            "colorscale": [
             [
              0,
              "#0d0887"
             ],
             [
              0.1111111111111111,
              "#46039f"
             ],
             [
              0.2222222222222222,
              "#7201a8"
             ],
             [
              0.3333333333333333,
              "#9c179e"
             ],
             [
              0.4444444444444444,
              "#bd3786"
             ],
             [
              0.5555555555555556,
              "#d8576b"
             ],
             [
              0.6666666666666666,
              "#ed7953"
             ],
             [
              0.7777777777777778,
              "#fb9f3a"
             ],
             [
              0.8888888888888888,
              "#fdca26"
             ],
             [
              1,
              "#f0f921"
             ]
            ],
            "type": "heatmap"
           }
          ],
          "heatmapgl": [
           {
            "colorbar": {
             "outlinewidth": 0,
             "ticks": ""
            },
            "colorscale": [
             [
              0,
              "#0d0887"
             ],
             [
              0.1111111111111111,
              "#46039f"
             ],
             [
              0.2222222222222222,
              "#7201a8"
             ],
             [
              0.3333333333333333,
              "#9c179e"
             ],
             [
              0.4444444444444444,
              "#bd3786"
             ],
             [
              0.5555555555555556,
              "#d8576b"
             ],
             [
              0.6666666666666666,
              "#ed7953"
             ],
             [
              0.7777777777777778,
              "#fb9f3a"
             ],
             [
              0.8888888888888888,
              "#fdca26"
             ],
             [
              1,
              "#f0f921"
             ]
            ],
            "type": "heatmapgl"
           }
          ],
          "histogram": [
           {
            "marker": {
             "pattern": {
              "fillmode": "overlay",
              "size": 10,
              "solidity": 0.2
             }
            },
            "type": "histogram"
           }
          ],
          "histogram2d": [
           {
            "colorbar": {
             "outlinewidth": 0,
             "ticks": ""
            },
            "colorscale": [
             [
              0,
              "#0d0887"
             ],
             [
              0.1111111111111111,
              "#46039f"
             ],
             [
              0.2222222222222222,
              "#7201a8"
             ],
             [
              0.3333333333333333,
              "#9c179e"
             ],
             [
              0.4444444444444444,
              "#bd3786"
             ],
             [
              0.5555555555555556,
              "#d8576b"
             ],
             [
              0.6666666666666666,
              "#ed7953"
             ],
             [
              0.7777777777777778,
              "#fb9f3a"
             ],
             [
              0.8888888888888888,
              "#fdca26"
             ],
             [
              1,
              "#f0f921"
             ]
            ],
            "type": "histogram2d"
           }
          ],
          "histogram2dcontour": [
           {
            "colorbar": {
             "outlinewidth": 0,
             "ticks": ""
            },
            "colorscale": [
             [
              0,
              "#0d0887"
             ],
             [
              0.1111111111111111,
              "#46039f"
             ],
             [
              0.2222222222222222,
              "#7201a8"
             ],
             [
              0.3333333333333333,
              "#9c179e"
             ],
             [
              0.4444444444444444,
              "#bd3786"
             ],
             [
              0.5555555555555556,
              "#d8576b"
             ],
             [
              0.6666666666666666,
              "#ed7953"
             ],
             [
              0.7777777777777778,
              "#fb9f3a"
             ],
             [
              0.8888888888888888,
              "#fdca26"
             ],
             [
              1,
              "#f0f921"
             ]
            ],
            "type": "histogram2dcontour"
           }
          ],
          "mesh3d": [
           {
            "colorbar": {
             "outlinewidth": 0,
             "ticks": ""
            },
            "type": "mesh3d"
           }
          ],
          "parcoords": [
           {
            "line": {
             "colorbar": {
              "outlinewidth": 0,
              "ticks": ""
             }
            },
            "type": "parcoords"
           }
          ],
          "pie": [
           {
            "automargin": true,
            "type": "pie"
           }
          ],
          "scatter": [
           {
            "fillpattern": {
             "fillmode": "overlay",
             "size": 10,
             "solidity": 0.2
            },
            "type": "scatter"
           }
          ],
          "scatter3d": [
           {
            "line": {
             "colorbar": {
              "outlinewidth": 0,
              "ticks": ""
             }
            },
            "marker": {
             "colorbar": {
              "outlinewidth": 0,
              "ticks": ""
             }
            },
            "type": "scatter3d"
           }
          ],
          "scattercarpet": [
           {
            "marker": {
             "colorbar": {
              "outlinewidth": 0,
              "ticks": ""
             }
            },
            "type": "scattercarpet"
           }
          ],
          "scattergeo": [
           {
            "marker": {
             "colorbar": {
              "outlinewidth": 0,
              "ticks": ""
             }
            },
            "type": "scattergeo"
           }
          ],
          "scattergl": [
           {
            "marker": {
             "colorbar": {
              "outlinewidth": 0,
              "ticks": ""
             }
            },
            "type": "scattergl"
           }
          ],
          "scattermapbox": [
           {
            "marker": {
             "colorbar": {
              "outlinewidth": 0,
              "ticks": ""
             }
            },
            "type": "scattermapbox"
           }
          ],
          "scatterpolar": [
           {
            "marker": {
             "colorbar": {
              "outlinewidth": 0,
              "ticks": ""
             }
            },
            "type": "scatterpolar"
           }
          ],
          "scatterpolargl": [
           {
            "marker": {
             "colorbar": {
              "outlinewidth": 0,
              "ticks": ""
             }
            },
            "type": "scatterpolargl"
           }
          ],
          "scatterternary": [
           {
            "marker": {
             "colorbar": {
              "outlinewidth": 0,
              "ticks": ""
             }
            },
            "type": "scatterternary"
           }
          ],
          "surface": [
           {
            "colorbar": {
             "outlinewidth": 0,
             "ticks": ""
            },
            "colorscale": [
             [
              0,
              "#0d0887"
             ],
             [
              0.1111111111111111,
              "#46039f"
             ],
             [
              0.2222222222222222,
              "#7201a8"
             ],
             [
              0.3333333333333333,
              "#9c179e"
             ],
             [
              0.4444444444444444,
              "#bd3786"
             ],
             [
              0.5555555555555556,
              "#d8576b"
             ],
             [
              0.6666666666666666,
              "#ed7953"
             ],
             [
              0.7777777777777778,
              "#fb9f3a"
             ],
             [
              0.8888888888888888,
              "#fdca26"
             ],
             [
              1,
              "#f0f921"
             ]
            ],
            "type": "surface"
           }
          ],
          "table": [
           {
            "cells": {
             "fill": {
              "color": "#EBF0F8"
             },
             "line": {
              "color": "white"
             }
            },
            "header": {
             "fill": {
              "color": "#C8D4E3"
             },
             "line": {
              "color": "white"
             }
            },
            "type": "table"
           }
          ]
         },
         "layout": {
          "annotationdefaults": {
           "arrowcolor": "#2a3f5f",
           "arrowhead": 0,
           "arrowwidth": 1
          },
          "autotypenumbers": "strict",
          "coloraxis": {
           "colorbar": {
            "outlinewidth": 0,
            "ticks": ""
           }
          },
          "colorscale": {
           "diverging": [
            [
             0,
             "#8e0152"
            ],
            [
             0.1,
             "#c51b7d"
            ],
            [
             0.2,
             "#de77ae"
            ],
            [
             0.3,
             "#f1b6da"
            ],
            [
             0.4,
             "#fde0ef"
            ],
            [
             0.5,
             "#f7f7f7"
            ],
            [
             0.6,
             "#e6f5d0"
            ],
            [
             0.7,
             "#b8e186"
            ],
            [
             0.8,
             "#7fbc41"
            ],
            [
             0.9,
             "#4d9221"
            ],
            [
             1,
             "#276419"
            ]
           ],
           "sequential": [
            [
             0,
             "#0d0887"
            ],
            [
             0.1111111111111111,
             "#46039f"
            ],
            [
             0.2222222222222222,
             "#7201a8"
            ],
            [
             0.3333333333333333,
             "#9c179e"
            ],
            [
             0.4444444444444444,
             "#bd3786"
            ],
            [
             0.5555555555555556,
             "#d8576b"
            ],
            [
             0.6666666666666666,
             "#ed7953"
            ],
            [
             0.7777777777777778,
             "#fb9f3a"
            ],
            [
             0.8888888888888888,
             "#fdca26"
            ],
            [
             1,
             "#f0f921"
            ]
           ],
           "sequentialminus": [
            [
             0,
             "#0d0887"
            ],
            [
             0.1111111111111111,
             "#46039f"
            ],
            [
             0.2222222222222222,
             "#7201a8"
            ],
            [
             0.3333333333333333,
             "#9c179e"
            ],
            [
             0.4444444444444444,
             "#bd3786"
            ],
            [
             0.5555555555555556,
             "#d8576b"
            ],
            [
             0.6666666666666666,
             "#ed7953"
            ],
            [
             0.7777777777777778,
             "#fb9f3a"
            ],
            [
             0.8888888888888888,
             "#fdca26"
            ],
            [
             1,
             "#f0f921"
            ]
           ]
          },
          "colorway": [
           "#636efa",
           "#EF553B",
           "#00cc96",
           "#ab63fa",
           "#FFA15A",
           "#19d3f3",
           "#FF6692",
           "#B6E880",
           "#FF97FF",
           "#FECB52"
          ],
          "font": {
           "color": "#2a3f5f"
          },
          "geo": {
           "bgcolor": "white",
           "lakecolor": "white",
           "landcolor": "#E5ECF6",
           "showlakes": true,
           "showland": true,
           "subunitcolor": "white"
          },
          "hoverlabel": {
           "align": "left"
          },
          "hovermode": "closest",
          "mapbox": {
           "style": "light"
          },
          "paper_bgcolor": "white",
          "plot_bgcolor": "#E5ECF6",
          "polar": {
           "angularaxis": {
            "gridcolor": "white",
            "linecolor": "white",
            "ticks": ""
           },
           "bgcolor": "#E5ECF6",
           "radialaxis": {
            "gridcolor": "white",
            "linecolor": "white",
            "ticks": ""
           }
          },
          "scene": {
           "xaxis": {
            "backgroundcolor": "#E5ECF6",
            "gridcolor": "white",
            "gridwidth": 2,
            "linecolor": "white",
            "showbackground": true,
            "ticks": "",
            "zerolinecolor": "white"
           },
           "yaxis": {
            "backgroundcolor": "#E5ECF6",
            "gridcolor": "white",
            "gridwidth": 2,
            "linecolor": "white",
            "showbackground": true,
            "ticks": "",
            "zerolinecolor": "white"
           },
           "zaxis": {
            "backgroundcolor": "#E5ECF6",
            "gridcolor": "white",
            "gridwidth": 2,
            "linecolor": "white",
            "showbackground": true,
            "ticks": "",
            "zerolinecolor": "white"
           }
          },
          "shapedefaults": {
           "line": {
            "color": "#2a3f5f"
           }
          },
          "ternary": {
           "aaxis": {
            "gridcolor": "white",
            "linecolor": "white",
            "ticks": ""
           },
           "baxis": {
            "gridcolor": "white",
            "linecolor": "white",
            "ticks": ""
           },
           "bgcolor": "#E5ECF6",
           "caxis": {
            "gridcolor": "white",
            "linecolor": "white",
            "ticks": ""
           }
          },
          "title": {
           "x": 0.05
          },
          "xaxis": {
           "automargin": true,
           "gridcolor": "white",
           "linecolor": "white",
           "ticks": "",
           "title": {
            "standoff": 15
           },
           "zerolinecolor": "white",
           "zerolinewidth": 2
          },
          "yaxis": {
           "automargin": true,
           "gridcolor": "white",
           "linecolor": "white",
           "ticks": "",
           "title": {
            "standoff": 15
           },
           "zerolinecolor": "white",
           "zerolinewidth": 2
          }
         }
        },
        "title": {
         "text": "log1p(SalePrice)"
        },
        "xaxis": {
         "anchor": "y",
         "domain": [
          0,
          1
         ],
         "title": {
          "text": "LogSalePrice"
         }
        },
        "yaxis": {
         "anchor": "x",
         "domain": [
          0,
          1
         ],
         "title": {
          "text": "count"
         }
        }
       }
      }
     },
     "metadata": {},
     "output_type": "display_data"
    }
   ],
   "source": [
    "import pandas as pd\n",
    "import numpy as np\n",
    "import plotly.express as px\n",
    "from pathlib import Path\n",
    "\n",
    "fig_raw = px.histogram(\n",
    "    train_csv,\n",
    "    x=\"SalePrice\",\n",
    "    nbins=40,\n",
    "    title=\"SalePrice (raw)\"\n",
    ")\n",
    "fig_raw.show()\n",
    "\n",
    "train_csv[\"LogSalePrice\"] = np.log1p(train_csv[\"SalePrice\"])\n",
    "\n",
    "fig_log = px.histogram(\n",
    "    train_csv,\n",
    "    x=\"LogSalePrice\",\n",
    "    nbins=40,\n",
    "    title=\"log1p(SalePrice)\"\n",
    ")\n",
    "fig_log.show()"
   ]
  },
  {
   "cell_type": "code",
   "execution_count": 932,
   "id": "0dfa0461",
   "metadata": {},
   "outputs": [
    {
     "name": "stdout",
     "output_type": "stream",
     "text": [
      "39 43\n"
     ]
    }
   ],
   "source": [
    "num_cols  = train_csv.select_dtypes(include=['int64', 'float64']).columns\n",
    "cat_cols  = train_csv.select_dtypes(include=['object']).columns\n",
    "print(len(num_cols), len(cat_cols))"
   ]
  },
  {
   "cell_type": "code",
   "execution_count": 933,
   "id": "5f6ee110",
   "metadata": {},
   "outputs": [
    {
     "name": "stdout",
     "output_type": "stream",
     "text": [
      "Id              0\n",
      "OpenPorchSF     0\n",
      "KitchenAbvGr    0\n",
      "TotRmsAbvGrd    0\n",
      "Fireplaces      0\n",
      "dtype: int64\n"
     ]
    }
   ],
   "source": [
    "for col in num_cols:\n",
    "    train_csv[col] = (\n",
    "        train_csv\n",
    "            .groupby('Neighborhood')[col]\n",
    "            .transform(lambda s: s.fillna(s.median()))\n",
    "    )\n",
    "\n",
    "print(train_csv[num_cols].isna().sum().sort_values(ascending=False).head())"
   ]
  },
  {
   "cell_type": "code",
   "execution_count": 934,
   "id": "2498c902",
   "metadata": {},
   "outputs": [
    {
     "data": {
      "text/plain": [
       "Fence           80.753425\n",
       "MasVnrType      59.726027\n",
       "FireplaceQu     47.260274\n",
       "GarageQual       5.547945\n",
       "GarageType       5.547945\n",
       "GarageFinish     5.547945\n",
       "GarageCond       5.547945\n",
       "BsmtFinType2     2.602740\n",
       "BsmtExposure     2.602740\n",
       "BsmtCond         2.534247\n",
       "dtype: float64"
      ]
     },
     "execution_count": 934,
     "metadata": {},
     "output_type": "execute_result"
    }
   ],
   "source": [
    "na_cat = train_csv[cat_cols].isna().mean() * 100\n",
    "top10_cat = na_cat.sort_values(ascending=False)[:10]\n",
    "top10_cat"
   ]
  },
  {
   "cell_type": "code",
   "execution_count": 935,
   "id": "430c765f",
   "metadata": {},
   "outputs": [
    {
     "name": "stdout",
     "output_type": "stream",
     "text": [
      "0\n"
     ]
    }
   ],
   "source": [
    "none_cols = ['Alley', 'FireplaceQu', 'Fence', 'MiscFeature', 'PoolQC', 'GarageType', 'GarageFinish', 'GarageQual', 'GarageCond', 'BsmtQual', 'BsmtCond', 'BsmtExposure', 'BsmtFinType1', 'BsmtFinType2', 'MasVnrType']\n",
    "\n",
    "train_csv[none_cols] = train_csv[none_cols].fillna('None')\n",
    "test_csv[none_cols]  = test_csv[none_cols].fillna('None')\n",
    "\n",
    "for col in cat_cols:\n",
    "    if col not in none_cols:\n",
    "        mode = train_csv[col].mode()[0]\n",
    "        train_csv[col] = train_csv[col].fillna(mode)\n",
    "        test_csv[col]  = test_csv[col].fillna(mode)\n",
    "        \n",
    "print(train_csv[cat_cols].isna().sum().max())\n"
   ]
  },
  {
   "cell_type": "code",
   "execution_count": 936,
   "id": "a29d72aa",
   "metadata": {},
   "outputs": [
    {
     "name": "stdout",
     "output_type": "stream",
     "text": [
      "Neighborhood    25\n",
      "Exterior2nd     16\n",
      "Exterior1st     15\n",
      "SaleType         9\n",
      "Condition1       9\n",
      "RoofMatl         8\n",
      "Condition2       8\n",
      "HouseStyle       8\n",
      "BsmtFinType2     7\n",
      "Functional       7\n",
      "dtype: int64\n"
     ]
    }
   ],
   "source": [
    "cat_card = train_csv[cat_cols].nunique().sort_values(ascending=False)\n",
    "print(cat_card.head(10))"
   ]
  },
  {
   "cell_type": "code",
   "execution_count": 937,
   "id": "916356d5",
   "metadata": {},
   "outputs": [
    {
     "name": "stdout",
     "output_type": "stream",
     "text": [
      "[0 1 2 3 4 5 6 7 8 9]\n",
      "25\n"
     ]
    }
   ],
   "source": [
    "all_hood = pd.concat([train_csv['Neighborhood'], test_csv['Neighborhood']])\n",
    "\n",
    "hood2idx = {cat: idx for idx, cat in enumerate(all_hood.unique())}\n",
    "\n",
    "train_csv['Neighborhood_idx'] = train_csv['Neighborhood'].map(hood2idx)\n",
    "test_csv['Neighborhood_idx'] = test_csv['Neighborhood'].map(hood2idx)\n",
    "print(train_csv['Neighborhood_idx'].unique()[:10])\n",
    "print(len(train_csv['Neighborhood_idx'].unique()))"
   ]
  },
  {
   "cell_type": "code",
   "execution_count": 938,
   "id": "22227fba",
   "metadata": {},
   "outputs": [
    {
     "data": {
      "text/plain": [
       "(1460, 36)"
      ]
     },
     "execution_count": 938,
     "metadata": {},
     "output_type": "execute_result"
    }
   ],
   "source": [
    "from sklearn.preprocessing import StandardScaler\n",
    "\n",
    "drop_cols = {'SalePrice', 'LogSalePrice', 'Neighborhood_idx', 'Id'}\n",
    "num_cols = [c for c in train_csv.select_dtypes(include=['int64','float64']).columns\n",
    "            if c not in drop_cols]\n",
    "\n",
    "\n",
    "skaler = StandardScaler()\n",
    "skaler.fit(train_csv[num_cols])\n",
    "\n",
    "X_train_num = skaler.transform(train_csv[num_cols])\n",
    "X_test_num = skaler.transform(test_csv[num_cols])\n",
    "X_train_num.shape"
   ]
  },
  {
   "cell_type": "code",
   "execution_count": 939,
   "id": "f02dd1ec",
   "metadata": {},
   "outputs": [
    {
     "name": "stdout",
     "output_type": "stream",
     "text": [
      "(1460, 241) (1459, 241)\n"
     ]
    }
   ],
   "source": [
    "oh_cat = [col for col in cat_cols if col != 'Neighborhood']\n",
    "\n",
    "full_csv = pd.concat([train_csv[oh_cat], test_csv[oh_cat]], axis=0)\n",
    "full_csv_dummies = pd.get_dummies(full_csv, drop_first=False)\n",
    "\n",
    "X_train_cat = full_csv_dummies.iloc[:len(train_csv)].values\n",
    "X_test_cat  = full_csv_dummies.iloc[len(train_csv):].values\n",
    "\n",
    "print(X_train_cat.shape, X_test_cat.shape)"
   ]
  },
  {
   "cell_type": "code",
   "execution_count": 940,
   "id": "fc515ad5",
   "metadata": {},
   "outputs": [
    {
     "data": {
      "text/plain": [
       "array([[ 0.07337496, -0.23187687, -0.20714171, ...,  0.        ,\n",
       "         1.        ,  0.        ],\n",
       "       [-0.87256276,  0.43704276, -0.09188637, ...,  0.        ,\n",
       "         1.        ,  0.        ],\n",
       "       [ 0.07337496, -0.09809294,  0.07347998, ...,  0.        ,\n",
       "         1.        ,  0.        ],\n",
       "       ...,\n",
       "       [ 0.30985939, -0.18728222, -0.14781027, ...,  0.        ,\n",
       "         1.        ,  0.        ],\n",
       "       [-0.87256276, -0.09809294, -0.08016039, ...,  0.        ,\n",
       "         1.        ,  0.        ],\n",
       "       [-0.87256276,  0.21406955, -0.05811155, ...,  0.        ,\n",
       "         1.        ,  0.        ]])"
      ]
     },
     "execution_count": 940,
     "metadata": {},
     "output_type": "execute_result"
    }
   ],
   "source": [
    "import numpy as np\n",
    "\n",
    "hood_train = train_csv['Neighborhood_idx'].values.reshape(-1, 1)\n",
    "\n",
    "X_train_main = np.hstack([X_train_num, X_train_cat])\n",
    "X_train_main"
   ]
  },
  {
   "cell_type": "code",
   "execution_count": 941,
   "id": "73b24f26",
   "metadata": {},
   "outputs": [],
   "source": [
    "import tensorflow as tf\n",
    "from keras.layers import Input, Embedding, Flatten, Dense, Dropout, Concatenate\n",
    "from keras.models import Model\n",
    "from keras.metrics import RootMeanSquaredError\n",
    "from keras.optimizers import Adam\n",
    "\n",
    "main_in = Input(shape=(X_train_main.shape[1],), name='main')\n",
    "hood_in = Input(shape=(1,), name='hood')\n",
    "hood_emb = Embedding(input_dim=25, output_dim=8)(hood_in)\n",
    "hood_vec = Flatten()(hood_emb)\n",
    "\n",
    "x = Concatenate()([main_in, hood_vec])\n",
    "x = Dense(128, activation='relu')(x)\n",
    "x = Dropout(0.2)(x)\n",
    "x = Dense(64, activation='relu')(x)\n",
    "out = Dense(1)(x)\n",
    "\n",
    "model = Model([main_in, hood_in], out)\n",
    "model.compile(optimizer=Adam(3e-4),\n",
    "              loss='mse',\n",
    "              metrics=[RootMeanSquaredError()])"
   ]
  },
  {
   "cell_type": "code",
   "execution_count": 942,
   "id": "6f41dc13",
   "metadata": {},
   "outputs": [
    {
     "name": "stdout",
     "output_type": "stream",
     "text": [
      "[11.88449592 12.08954445 11.3504183  12.07254697 11.75195024]\n",
      "True\n",
      "10.460270761075149 13.521140839642674\n"
     ]
    }
   ],
   "source": [
    "from sklearn.model_selection import train_test_split\n",
    "from keras.callbacks import EarlyStopping\n",
    "\n",
    "X_tr_main, X_val_main, X_tr_hood, X_val_hood, y_tr, y_val = train_test_split(\n",
    "    X_train_main, hood_train, train_csv['LogSalePrice'].values,\n",
    "    test_size=0.2, random_state=42\n",
    ")\n",
    "\n",
    "es = EarlyStopping(\n",
    "    patience=20,\n",
    "    restore_best_weights=True\n",
    ")\n",
    "print(y_tr[:5])\n",
    "print(X_train_main.shape[0] == len(train_csv) == hood_train.shape[0])\n",
    "print(y_tr.min(), y_tr.max())\n"
   ]
  },
  {
   "cell_type": "code",
   "execution_count": null,
   "id": "d693b68e",
   "metadata": {},
   "outputs": [],
   "source": [
    "history = model.fit(\n",
    "    {'main': X_tr_main, 'hood': X_tr_hood}, y_tr,\n",
    "    validation_data=({'main': X_val_main, 'hood': X_val_hood}, y_val),\n",
    "    epochs=300,\n",
    "    batch_size=32,\n",
    "    callbacks=[es],\n",
    "    verbose=2\n",
    ")"
   ]
  },
  {
   "cell_type": "code",
   "execution_count": 944,
   "id": "9a14f490",
   "metadata": {},
   "outputs": [
    {
     "data": {
      "application/vnd.plotly.v1+json": {
       "config": {
        "plotlyServerURL": "https://plot.ly"
       },
       "data": [
        {
         "mode": "lines",
         "name": "train",
         "type": "scatter",
         "x": [
          0,
          1,
          2,
          3,
          4,
          5,
          6,
          7,
          8,
          9,
          10,
          11,
          12,
          13,
          14,
          15,
          16,
          17,
          18,
          19,
          20,
          21,
          22,
          23,
          24,
          25,
          26,
          27,
          28,
          29,
          30,
          31,
          32,
          33,
          34,
          35,
          36,
          37,
          38,
          39,
          40,
          41,
          42,
          43,
          44,
          45,
          46,
          47,
          48,
          49,
          50,
          51,
          52,
          53,
          54,
          55,
          56,
          57,
          58,
          59
         ],
         "y": [
          9.901494026184082,
          3.9164907932281494,
          1.283104658126831,
          1.1303927898406982,
          1.0812811851501465,
          1.0375604629516602,
          1.0188370943069458,
          1.0038648843765259,
          0.9712483286857605,
          0.9584563970565796,
          1.0020344257354736,
          0.8915453553199768,
          0.9188950061798096,
          0.9470024108886719,
          0.8871476650238037,
          0.8837128281593323,
          0.9056717753410339,
          0.8797267079353333,
          0.8569636344909668,
          0.8581977486610413,
          0.8418417572975159,
          0.8503556251525879,
          0.8079226016998291,
          0.7953400015830994,
          0.8173972368240356,
          0.777336835861206,
          0.8107797503471375,
          0.7784092426300049,
          0.7717213034629822,
          0.7722866535186768,
          0.7718623280525208,
          0.7375875115394592,
          0.7450361251831055,
          0.7540991902351379,
          0.7454633116722107,
          0.7324631810188293,
          0.7098292112350464,
          0.7240355014801025,
          0.7209109663963318,
          0.7325936555862427,
          0.7241196036338806,
          0.6867881417274475,
          0.6808082461357117,
          0.7069632411003113,
          0.7298223972320557,
          0.6770042777061462,
          0.7024949193000793,
          0.6981286406517029,
          0.6787282228469849,
          0.6731795072555542,
          0.6964157223701477,
          0.6644862294197083,
          0.695378303527832,
          0.6976971626281738,
          0.6726424098014832,
          0.6992990374565125,
          0.6635295748710632,
          0.6512193083763123,
          0.6547985076904297,
          0.6739688515663147
         ]
        },
        {
         "mode": "lines",
         "name": "val",
         "type": "scatter",
         "x": [
          0,
          1,
          2,
          3,
          4,
          5,
          6,
          7,
          8,
          9,
          10,
          11,
          12,
          13,
          14,
          15,
          16,
          17,
          18,
          19,
          20,
          21,
          22,
          23,
          24,
          25,
          26,
          27,
          28,
          29,
          30,
          31,
          32,
          33,
          34,
          35,
          36,
          37,
          38,
          39,
          40,
          41,
          42,
          43,
          44,
          45,
          46,
          47,
          48,
          49,
          50,
          51,
          52,
          53,
          54,
          55,
          56,
          57,
          58,
          59
         ],
         "y": [
          6.807575702667236,
          0.9986321926116943,
          0.6739685535430908,
          0.5888263583183289,
          0.545426070690155,
          0.5103365778923035,
          0.48646098375320435,
          0.45999786257743835,
          0.43415606021881104,
          0.41981586813926697,
          0.4099011719226837,
          0.38620424270629883,
          0.361063688993454,
          0.3583016097545624,
          0.3676941394805908,
          0.33301055431365967,
          0.3607613444328308,
          0.31640729308128357,
          0.313970148563385,
          0.2997448146343231,
          0.30845072865486145,
          0.29232513904571533,
          0.3008425831794739,
          0.2981671392917633,
          0.3488704264163971,
          0.27782365679740906,
          0.2900843322277069,
          0.28153377771377563,
          0.2714683711528778,
          0.24775543808937073,
          0.2718687951564789,
          0.2812526524066925,
          0.330440878868103,
          0.30460479855537415,
          0.23707081377506256,
          0.2505420744419098,
          0.22515684366226196,
          0.3151648938655853,
          0.2944023311138153,
          0.2183506339788437,
          0.3054790198802948,
          0.3069609999656677,
          0.2916244864463806,
          0.36425521969795227,
          0.4643004536628723,
          0.3252444863319397,
          0.2382338047027588,
          0.3145518898963928,
          0.48548775911331177,
          0.28927165269851685,
          0.2845652401447296,
          0.24094648659229279,
          0.474437415599823,
          0.23333357274532318,
          0.37965449690818787,
          0.4177306294441223,
          0.25771427154541016,
          0.30912986397743225,
          0.4163895845413208,
          0.30675646662712097
         ]
        }
       ],
       "layout": {
        "template": {
         "data": {
          "bar": [
           {
            "error_x": {
             "color": "#2a3f5f"
            },
            "error_y": {
             "color": "#2a3f5f"
            },
            "marker": {
             "line": {
              "color": "white",
              "width": 0.5
             },
             "pattern": {
              "fillmode": "overlay",
              "size": 10,
              "solidity": 0.2
             }
            },
            "type": "bar"
           }
          ],
          "barpolar": [
           {
            "marker": {
             "line": {
              "color": "white",
              "width": 0.5
             },
             "pattern": {
              "fillmode": "overlay",
              "size": 10,
              "solidity": 0.2
             }
            },
            "type": "barpolar"
           }
          ],
          "carpet": [
           {
            "aaxis": {
             "endlinecolor": "#2a3f5f",
             "gridcolor": "#C8D4E3",
             "linecolor": "#C8D4E3",
             "minorgridcolor": "#C8D4E3",
             "startlinecolor": "#2a3f5f"
            },
            "baxis": {
             "endlinecolor": "#2a3f5f",
             "gridcolor": "#C8D4E3",
             "linecolor": "#C8D4E3",
             "minorgridcolor": "#C8D4E3",
             "startlinecolor": "#2a3f5f"
            },
            "type": "carpet"
           }
          ],
          "choropleth": [
           {
            "colorbar": {
             "outlinewidth": 0,
             "ticks": ""
            },
            "type": "choropleth"
           }
          ],
          "contour": [
           {
            "colorbar": {
             "outlinewidth": 0,
             "ticks": ""
            },
            "colorscale": [
             [
              0,
              "#0d0887"
             ],
             [
              0.1111111111111111,
              "#46039f"
             ],
             [
              0.2222222222222222,
              "#7201a8"
             ],
             [
              0.3333333333333333,
              "#9c179e"
             ],
             [
              0.4444444444444444,
              "#bd3786"
             ],
             [
              0.5555555555555556,
              "#d8576b"
             ],
             [
              0.6666666666666666,
              "#ed7953"
             ],
             [
              0.7777777777777778,
              "#fb9f3a"
             ],
             [
              0.8888888888888888,
              "#fdca26"
             ],
             [
              1,
              "#f0f921"
             ]
            ],
            "type": "contour"
           }
          ],
          "contourcarpet": [
           {
            "colorbar": {
             "outlinewidth": 0,
             "ticks": ""
            },
            "type": "contourcarpet"
           }
          ],
          "heatmap": [
           {
            "colorbar": {
             "outlinewidth": 0,
             "ticks": ""
            },
            "colorscale": [
             [
              0,
              "#0d0887"
             ],
             [
              0.1111111111111111,
              "#46039f"
             ],
             [
              0.2222222222222222,
              "#7201a8"
             ],
             [
              0.3333333333333333,
              "#9c179e"
             ],
             [
              0.4444444444444444,
              "#bd3786"
             ],
             [
              0.5555555555555556,
              "#d8576b"
             ],
             [
              0.6666666666666666,
              "#ed7953"
             ],
             [
              0.7777777777777778,
              "#fb9f3a"
             ],
             [
              0.8888888888888888,
              "#fdca26"
             ],
             [
              1,
              "#f0f921"
             ]
            ],
            "type": "heatmap"
           }
          ],
          "heatmapgl": [
           {
            "colorbar": {
             "outlinewidth": 0,
             "ticks": ""
            },
            "colorscale": [
             [
              0,
              "#0d0887"
             ],
             [
              0.1111111111111111,
              "#46039f"
             ],
             [
              0.2222222222222222,
              "#7201a8"
             ],
             [
              0.3333333333333333,
              "#9c179e"
             ],
             [
              0.4444444444444444,
              "#bd3786"
             ],
             [
              0.5555555555555556,
              "#d8576b"
             ],
             [
              0.6666666666666666,
              "#ed7953"
             ],
             [
              0.7777777777777778,
              "#fb9f3a"
             ],
             [
              0.8888888888888888,
              "#fdca26"
             ],
             [
              1,
              "#f0f921"
             ]
            ],
            "type": "heatmapgl"
           }
          ],
          "histogram": [
           {
            "marker": {
             "pattern": {
              "fillmode": "overlay",
              "size": 10,
              "solidity": 0.2
             }
            },
            "type": "histogram"
           }
          ],
          "histogram2d": [
           {
            "colorbar": {
             "outlinewidth": 0,
             "ticks": ""
            },
            "colorscale": [
             [
              0,
              "#0d0887"
             ],
             [
              0.1111111111111111,
              "#46039f"
             ],
             [
              0.2222222222222222,
              "#7201a8"
             ],
             [
              0.3333333333333333,
              "#9c179e"
             ],
             [
              0.4444444444444444,
              "#bd3786"
             ],
             [
              0.5555555555555556,
              "#d8576b"
             ],
             [
              0.6666666666666666,
              "#ed7953"
             ],
             [
              0.7777777777777778,
              "#fb9f3a"
             ],
             [
              0.8888888888888888,
              "#fdca26"
             ],
             [
              1,
              "#f0f921"
             ]
            ],
            "type": "histogram2d"
           }
          ],
          "histogram2dcontour": [
           {
            "colorbar": {
             "outlinewidth": 0,
             "ticks": ""
            },
            "colorscale": [
             [
              0,
              "#0d0887"
             ],
             [
              0.1111111111111111,
              "#46039f"
             ],
             [
              0.2222222222222222,
              "#7201a8"
             ],
             [
              0.3333333333333333,
              "#9c179e"
             ],
             [
              0.4444444444444444,
              "#bd3786"
             ],
             [
              0.5555555555555556,
              "#d8576b"
             ],
             [
              0.6666666666666666,
              "#ed7953"
             ],
             [
              0.7777777777777778,
              "#fb9f3a"
             ],
             [
              0.8888888888888888,
              "#fdca26"
             ],
             [
              1,
              "#f0f921"
             ]
            ],
            "type": "histogram2dcontour"
           }
          ],
          "mesh3d": [
           {
            "colorbar": {
             "outlinewidth": 0,
             "ticks": ""
            },
            "type": "mesh3d"
           }
          ],
          "parcoords": [
           {
            "line": {
             "colorbar": {
              "outlinewidth": 0,
              "ticks": ""
             }
            },
            "type": "parcoords"
           }
          ],
          "pie": [
           {
            "automargin": true,
            "type": "pie"
           }
          ],
          "scatter": [
           {
            "fillpattern": {
             "fillmode": "overlay",
             "size": 10,
             "solidity": 0.2
            },
            "type": "scatter"
           }
          ],
          "scatter3d": [
           {
            "line": {
             "colorbar": {
              "outlinewidth": 0,
              "ticks": ""
             }
            },
            "marker": {
             "colorbar": {
              "outlinewidth": 0,
              "ticks": ""
             }
            },
            "type": "scatter3d"
           }
          ],
          "scattercarpet": [
           {
            "marker": {
             "colorbar": {
              "outlinewidth": 0,
              "ticks": ""
             }
            },
            "type": "scattercarpet"
           }
          ],
          "scattergeo": [
           {
            "marker": {
             "colorbar": {
              "outlinewidth": 0,
              "ticks": ""
             }
            },
            "type": "scattergeo"
           }
          ],
          "scattergl": [
           {
            "marker": {
             "colorbar": {
              "outlinewidth": 0,
              "ticks": ""
             }
            },
            "type": "scattergl"
           }
          ],
          "scattermapbox": [
           {
            "marker": {
             "colorbar": {
              "outlinewidth": 0,
              "ticks": ""
             }
            },
            "type": "scattermapbox"
           }
          ],
          "scatterpolar": [
           {
            "marker": {
             "colorbar": {
              "outlinewidth": 0,
              "ticks": ""
             }
            },
            "type": "scatterpolar"
           }
          ],
          "scatterpolargl": [
           {
            "marker": {
             "colorbar": {
              "outlinewidth": 0,
              "ticks": ""
             }
            },
            "type": "scatterpolargl"
           }
          ],
          "scatterternary": [
           {
            "marker": {
             "colorbar": {
              "outlinewidth": 0,
              "ticks": ""
             }
            },
            "type": "scatterternary"
           }
          ],
          "surface": [
           {
            "colorbar": {
             "outlinewidth": 0,
             "ticks": ""
            },
            "colorscale": [
             [
              0,
              "#0d0887"
             ],
             [
              0.1111111111111111,
              "#46039f"
             ],
             [
              0.2222222222222222,
              "#7201a8"
             ],
             [
              0.3333333333333333,
              "#9c179e"
             ],
             [
              0.4444444444444444,
              "#bd3786"
             ],
             [
              0.5555555555555556,
              "#d8576b"
             ],
             [
              0.6666666666666666,
              "#ed7953"
             ],
             [
              0.7777777777777778,
              "#fb9f3a"
             ],
             [
              0.8888888888888888,
              "#fdca26"
             ],
             [
              1,
              "#f0f921"
             ]
            ],
            "type": "surface"
           }
          ],
          "table": [
           {
            "cells": {
             "fill": {
              "color": "#EBF0F8"
             },
             "line": {
              "color": "white"
             }
            },
            "header": {
             "fill": {
              "color": "#C8D4E3"
             },
             "line": {
              "color": "white"
             }
            },
            "type": "table"
           }
          ]
         },
         "layout": {
          "annotationdefaults": {
           "arrowcolor": "#2a3f5f",
           "arrowhead": 0,
           "arrowwidth": 1
          },
          "autotypenumbers": "strict",
          "coloraxis": {
           "colorbar": {
            "outlinewidth": 0,
            "ticks": ""
           }
          },
          "colorscale": {
           "diverging": [
            [
             0,
             "#8e0152"
            ],
            [
             0.1,
             "#c51b7d"
            ],
            [
             0.2,
             "#de77ae"
            ],
            [
             0.3,
             "#f1b6da"
            ],
            [
             0.4,
             "#fde0ef"
            ],
            [
             0.5,
             "#f7f7f7"
            ],
            [
             0.6,
             "#e6f5d0"
            ],
            [
             0.7,
             "#b8e186"
            ],
            [
             0.8,
             "#7fbc41"
            ],
            [
             0.9,
             "#4d9221"
            ],
            [
             1,
             "#276419"
            ]
           ],
           "sequential": [
            [
             0,
             "#0d0887"
            ],
            [
             0.1111111111111111,
             "#46039f"
            ],
            [
             0.2222222222222222,
             "#7201a8"
            ],
            [
             0.3333333333333333,
             "#9c179e"
            ],
            [
             0.4444444444444444,
             "#bd3786"
            ],
            [
             0.5555555555555556,
             "#d8576b"
            ],
            [
             0.6666666666666666,
             "#ed7953"
            ],
            [
             0.7777777777777778,
             "#fb9f3a"
            ],
            [
             0.8888888888888888,
             "#fdca26"
            ],
            [
             1,
             "#f0f921"
            ]
           ],
           "sequentialminus": [
            [
             0,
             "#0d0887"
            ],
            [
             0.1111111111111111,
             "#46039f"
            ],
            [
             0.2222222222222222,
             "#7201a8"
            ],
            [
             0.3333333333333333,
             "#9c179e"
            ],
            [
             0.4444444444444444,
             "#bd3786"
            ],
            [
             0.5555555555555556,
             "#d8576b"
            ],
            [
             0.6666666666666666,
             "#ed7953"
            ],
            [
             0.7777777777777778,
             "#fb9f3a"
            ],
            [
             0.8888888888888888,
             "#fdca26"
            ],
            [
             1,
             "#f0f921"
            ]
           ]
          },
          "colorway": [
           "#636efa",
           "#EF553B",
           "#00cc96",
           "#ab63fa",
           "#FFA15A",
           "#19d3f3",
           "#FF6692",
           "#B6E880",
           "#FF97FF",
           "#FECB52"
          ],
          "font": {
           "color": "#2a3f5f"
          },
          "geo": {
           "bgcolor": "white",
           "lakecolor": "white",
           "landcolor": "white",
           "showlakes": true,
           "showland": true,
           "subunitcolor": "#C8D4E3"
          },
          "hoverlabel": {
           "align": "left"
          },
          "hovermode": "closest",
          "mapbox": {
           "style": "light"
          },
          "paper_bgcolor": "white",
          "plot_bgcolor": "white",
          "polar": {
           "angularaxis": {
            "gridcolor": "#EBF0F8",
            "linecolor": "#EBF0F8",
            "ticks": ""
           },
           "bgcolor": "white",
           "radialaxis": {
            "gridcolor": "#EBF0F8",
            "linecolor": "#EBF0F8",
            "ticks": ""
           }
          },
          "scene": {
           "xaxis": {
            "backgroundcolor": "white",
            "gridcolor": "#DFE8F3",
            "gridwidth": 2,
            "linecolor": "#EBF0F8",
            "showbackground": true,
            "ticks": "",
            "zerolinecolor": "#EBF0F8"
           },
           "yaxis": {
            "backgroundcolor": "white",
            "gridcolor": "#DFE8F3",
            "gridwidth": 2,
            "linecolor": "#EBF0F8",
            "showbackground": true,
            "ticks": "",
            "zerolinecolor": "#EBF0F8"
           },
           "zaxis": {
            "backgroundcolor": "white",
            "gridcolor": "#DFE8F3",
            "gridwidth": 2,
            "linecolor": "#EBF0F8",
            "showbackground": true,
            "ticks": "",
            "zerolinecolor": "#EBF0F8"
           }
          },
          "shapedefaults": {
           "line": {
            "color": "#2a3f5f"
           }
          },
          "ternary": {
           "aaxis": {
            "gridcolor": "#DFE8F3",
            "linecolor": "#A2B1C6",
            "ticks": ""
           },
           "baxis": {
            "gridcolor": "#DFE8F3",
            "linecolor": "#A2B1C6",
            "ticks": ""
           },
           "bgcolor": "white",
           "caxis": {
            "gridcolor": "#DFE8F3",
            "linecolor": "#A2B1C6",
            "ticks": ""
           }
          },
          "title": {
           "x": 0.05
          },
          "xaxis": {
           "automargin": true,
           "gridcolor": "#EBF0F8",
           "linecolor": "#EBF0F8",
           "ticks": "",
           "title": {
            "standoff": 15
           },
           "zerolinecolor": "#EBF0F8",
           "zerolinewidth": 2
          },
          "yaxis": {
           "automargin": true,
           "gridcolor": "#EBF0F8",
           "linecolor": "#EBF0F8",
           "ticks": "",
           "title": {
            "standoff": 15
           },
           "zerolinecolor": "#EBF0F8",
           "zerolinewidth": 2
          }
         }
        },
        "title": {
         "text": "Training / Validation RMSE (log1p)"
        },
        "xaxis": {
         "title": {
          "text": "Epoch"
         }
        },
        "yaxis": {
         "title": {
          "text": "RMSE"
         }
        }
       }
      }
     },
     "metadata": {},
     "output_type": "display_data"
    }
   ],
   "source": [
    "import plotly.graph_objects as go\n",
    "\n",
    "epochs = list(range(len(history.history['root_mean_squared_error'])))\n",
    "\n",
    "fig = go.Figure()\n",
    "fig.add_trace(go.Scatter(\n",
    "    x=epochs,\n",
    "    y=history.history['root_mean_squared_error'],\n",
    "    mode='lines',\n",
    "    name='train'\n",
    "))\n",
    "fig.add_trace(go.Scatter(\n",
    "    x=epochs,\n",
    "    y=history.history['val_root_mean_squared_error'],\n",
    "    mode='lines',\n",
    "    name='val'\n",
    "))\n",
    "\n",
    "fig.update_layout(\n",
    "    title='Training / Validation RMSE (log1p)',\n",
    "    xaxis_title='Epoch',\n",
    "    yaxis_title='RMSE',\n",
    "    template='plotly_white'\n",
    ")\n",
    "\n",
    "fig.show()\n"
   ]
  },
  {
   "cell_type": "code",
   "execution_count": 945,
   "id": "932a60d9",
   "metadata": {},
   "outputs": [
    {
     "data": {
      "application/vnd.plotly.v1+json": {
       "config": {
        "plotlyServerURL": "https://plot.ly"
       },
       "data": [
        {
         "customdata": [
          [
           -10729.109375000116,
           -6.944407362459617
          ],
          [
           -61127.31249999988,
           -18.80840384615382
          ],
          [
           -25478.648437499913,
           -22.155346467391244
          ],
          [
           -7926.906249999971,
           -4.9854756289308
          ],
          [
           -6752.687500000233,
           -2.140312995245714
          ],
          [
           22258.79687499994,
           29.48185016556282
          ],
          [
           -122143.32812500012,
           -39.211341292134854
          ],
          [
           -14345.89062499997,
           -9.825952482876696
          ],
          [
           -7805.257812499942,
           -9.236991494082778
          ],
          [
           8093.031249999971,
           5.972716789667874
          ],
          [
           -27164.148437500116,
           -18.733895474137995
          ],
          [
           -5175.796875000087,
           -3.9813822115385262
          ],
          [
           -12001.710937500073,
           -14.81692708333341
          ],
          [
           -14774.609375000175,
           -6.9040230724299825
          ],
          [
           -41190.32812500006,
           -22.757087361878476
          ],
          [
           12642.453124999942,
           9.399593401486941
          ],
          [
           -12534.984375000058,
           -6.831054155313381
          ],
          [
           -7252.695312499971,
           -5.372366898148128
          ],
          [
           -29677.249999999985,
           -25.065244932432424
          ],
          [
           -22890.359374999796,
           -10.12847759955744
          ],
          [
           25342.421874999884,
           16.349949596774106
          ],
          [
           -62763.5,
           -29.88738095238095
          ],
          [
           -31553.218749999854,
           -18.186293227665637
          ],
          [
           44770.9843749999,
           34.70618943798439
          ],
          [
           25227.45312500003,
           13.139298502604182
          ],
          [
           4894.468750000116,
           3.1802915854451723
          ],
          [
           28950.12499999997,
           15.982711694104898
          ],
          [
           -26119.42187499994,
           -18.524412677304934
          ],
          [
           -21123.76562500006,
           -11.67058874309395
          ],
          [
           -46900.656250000175,
           -22.451247606510357
          ],
          [
           25777.531250000087,
           20.297268700787484
          ],
          [
           -39136.89062500023,
           -13.780595290493029
          ],
          [
           -63605.12499999988,
           -31.723254364089737
          ],
          [
           -12149.937500000116,
           -8.950230202578346
          ],
          [
           -12523.437500000087,
           -4.911151960784347
          ],
          [
           37541.89062500009,
           26.815636160714366
          ],
          [
           -899.0937500000582,
           -0.6515172101449694
          ],
          [
           -51351.78125000012,
           -23.39488895216405
          ],
          [
           -92797.40625000017,
           -29.934647177419393
          ],
          [
           -7728.109374999985,
           -7.967123067010296
          ],
          [
           46461.68750000009,
           40.57789301310054
          ],
          [
           10472.4375,
           5.1085060975609755
          ],
          [
           35123.70312499991,
           29.392220188284423
          ],
          [
           111309.34374999983,
           43.94489533859986
          ],
          [
           10831.687499999956,
           8.429328793774282
          ],
          [
           42210.125000000044,
           35.92351063829793
          ],
          [
           9846.468750000087,
           8.562146739130517
          ],
          [
           15098.343750000087,
           11.88845964566937
          ],
          [
           -22667.25000000006,
           -5.015433123133102
          ],
          [
           -21541.671875,
           -14.959494357638889
          ],
          [
           44694.93750000007,
           37.55877100840345
          ],
          [
           74366.87499999991,
           37.942283163265245
          ],
          [
           15239.835937500087,
           13.252031250000087
          ],
          [
           -110392.31250000012,
           -38.46422038327528
          ],
          [
           17666.28125000006,
           12.225800173010425
          ],
          [
           976.1093750002037,
           0.3754266826923863
          ],
          [
           -17524.937500000146,
           -8.227670187793489
          ],
          [
           -44585.90625000012,
           -25.47766071428576
          ],
          [
           11948.55468749997,
           11.166873539719598
          ],
          [
           -19169.15625000003,
           -17.831773255813975
          ],
          [
           19019.820312500015,
           27.766161040146013
          ],
          [
           61712.17187500012,
           40.07283887987023
          ],
          [
           -79527.92187499988,
           -25.087672515772844
          ],
          [
           3394.531249999767,
           1.2851647093119214
          ],
          [
           42869.09375,
           15.12334722697495
          ],
          [
           -52580.32812500003,
           -21.637995113168735
          ],
          [
           14798.484375,
           13.57659116972477
          ],
          [
           6555.750000000233,
           2.1494262295082747
          ],
          [
           1836.3203124999127,
           1.9639789438501722
          ],
          [
           48809.54687499994,
           27.73269708806814
          ],
          [
           -15597.085937500087,
           -13.122453631644548
          ],
          [
           -1073.0468749999127,
           -0.8007812499999354
          ],
          [
           37952.42187499993,
           34.816180349148595
          ],
          [
           -643.8125000000873,
           -0.6885695187166703
          ],
          [
           101412.74999999965,
           16.580003171712182
          ],
          [
           -8749.609374999913,
           -5.057577673410357
          ],
          [
           -37145.250000000175,
           -10.673922413793148
          ],
          [
           -32263.593750000175,
           -9.461464442815297
          ],
          [
           -4900.624999999942,
           -3.4756205673758465
          ],
          [
           -9302.757812499927,
           -7.448164781825407
          ],
          [
           -20068.195312500087,
           -17.00694518008481
          ],
          [
           -15993.48046875,
           -23.870866371268658
          ],
          [
           -21577.585937499927,
           -19.095208794247736
          ],
          [
           10462.617187500044,
           11.459602615005531
          ],
          [
           21303.999999999884,
           14.250167224080178
          ],
          [
           -29379.804687500116,
           -22.090078712406083
          ],
          [
           -73976.24999999983,
           -27.810620300751832
          ],
          [
           11428.718750000087,
           6.015115131578996
          ],
          [
           1311.0937499998836,
           0.8409838037202583
          ],
          [
           18502.515625,
           11.873145073314724
          ],
          [
           -12714.140625,
           -8.282827768729641
          ],
          [
           -58029.07812500006,
           -38.17702508223687
          ],
          [
           24220.82812499997,
           19.45448042168672
          ],
          [
           113475.09374999977,
           37.69936669435206
          ],
          [
           -40865.90625000006,
           -29.938392857142887
          ],
          [
           -3916.906250000058,
           -2.304198041061272
          ],
          [
           -55407.1875,
           -27.027896341463414
          ],
          [
           -352.4531250001164,
           -0.19165477161507133
          ],
          [
           -18313.281249999854,
           -8.937667764763235
          ],
          [
           -2343.1562499997963,
           -0.9012139423076146
          ],
          [
           15123.390625000116,
           9.249780198776836
          ],
          [
           -48513.82812500012,
           -21.571288628279273
          ],
          [
           189944.31249999997,
           77.84602971311473
          ],
          [
           14653.796875000087,
           11.101361268939469
          ],
          [
           -7429.296875000058,
           -3.8295344716495134
          ],
          [
           980.7500000001455,
           0.6266773162940232
          ],
          [
           23070.765625,
           14.788952323717949
          ],
          [
           72493.43749999983,
           26.36124999999992
          ],
          [
           -11687.234375000116,
           -8.060161637931108
          ],
          [
           110442.70312500003,
           81.80940972222227
          ],
          [
           -25842.640625000015,
           -43.071067708333345
          ],
          [
           -7894.750000000073,
           -6.3667338709677965
          ],
          [
           -1202.5390624999127,
           -0.9468811515747351
          ],
          [
           11767.890624999884,
           8.558465909090817
          ],
          [
           -70009.09374999994,
           -32.79114461358312
          ],
          [
           39991.76562500007,
           33.6065257352942
          ],
          [
           16231.640625000102,
           15.04322578776656
          ],
          [
           5483.570312499913,
           4.4581872459348855
          ],
          [
           -7981.382812500044,
           -7.126234654017894
          ],
          [
           18833.624999999767,
           6.631558098591462
          ],
          [
           27293.937499999884,
           20.521757518796885
          ],
          [
           -7802.421875,
           -5.2365247483221475
          ],
          [
           -7137.328125000116,
           -4.223271079881723
          ],
          [
           -66468.20312499994,
           -32.110243055555536
          ],
          [
           2861.3437499998836,
           1.6350535714285037
          ],
          [
           6053.406250000087,
           4.4185447080292635
          ],
          [
           -4417.359374999913,
           -1.871762447033862
          ],
          [
           -8329.703125000044,
           -10.477613993710742
          ],
          [
           -16700,
           -11.597222222222221
          ],
          [
           41487.21874999991,
           25.467905923879613
          ],
          [
           -30869.062500000116,
           -16.60519768692851
          ],
          [
           15733.437500000175,
           4.253429981076016
          ],
          [
           -55533.35937500009,
           -28.06132358514404
          ],
          [
           -11646.14843750003,
           -11.198219651442331
          ],
          [
           32224.492187499978,
           91.25907560675131
          ],
          [
           15868.156249999942,
           4.701675925925908
          ],
          [
           83788.71875000017,
           22.81243874117198
          ],
          [
           656.5468750001019,
           0.5040666986565085
          ],
          [
           22167.281249999913,
           9.637948369565175
          ],
          [
           40512.687499999534,
           5.36591887417212
          ],
          [
           -77006.31249999988,
           -19.108266129032234
          ],
          [
           24806.515625000087,
           18.792814867424323
          ],
          [
           -22963.73437499994,
           -12.9009743679775
          ],
          [
           62297.59374999994,
           45.63926282051276
          ],
          [
           -46449.37500000012,
           -32.03405172413798
          ],
          [
           24029.390624999913,
           19.536089939024304
          ],
          [
           18957.312500000204,
           7.582925000000088
          ],
          [
           -20439.70312500006,
           -10.92448055852488
          ],
          [
           -47683.79687499997,
           -35.61149878640775
          ],
          [
           19140.9140625,
           28.568528451492536
          ],
          [
           8784.343749999884,
           6.388613636363546
          ],
          [
           2879.0937499998836,
           1.857479838709601
          ],
          [
           71120.68749999991,
           35.44974055945445
          ],
          [
           53772.46875000003,
           34.849299254698664
          ],
          [
           -3686.3515624999127,
           -4.050935782966941
          ],
          [
           -7774.468749999971,
           -5.716521139705862
          ],
          [
           60827.68749999997,
           55.82621674207726
          ],
          [
           -1882.1562499999127,
           -1.3443973214285099
          ],
          [
           22008.078124999985,
           25.59078851744184
          ],
          [
           16618.85937500003,
           12.647533770928487
          ],
          [
           -28547.85937500006,
           -15.868737840466952
          ],
          [
           48314.78125,
           33.55193142361111
          ],
          [
           -8975.656249999942,
           -3.062559071506786
          ],
          [
           14560.468750000058,
           10.07644896193776
          ],
          [
           10366.812499999913,
           8.748364978902874
          ],
          [
           -14055.820312499942,
           -9.968666888297836
          ],
          [
           134472.24999999997,
           56.26453974895395
          ],
          [
           -17332.750000000175,
           -6.279981884058031
          ],
          [
           -132985.65625000035,
           -23.893315842617746
          ],
          [
           -30493.031250000175,
           -12.476690364157182
          ],
          [
           27788.312499999884,
           7.71897569444441
          ],
          [
           4861.351562499913,
           4.710611979166578
          ],
          [
           2436.4921874999854,
           2.3887178308823382
          ],
          [
           -20593.86718750006,
           -13.63832264072851
          ],
          [
           -11261.093749999942,
           -3.951260964912261
          ],
          [
           -28146.70312500003,
           -20.93750232459535
          ],
          [
           4683.453125000073,
           4.144648783185907
          ],
          [
           -20598.578125,
           -10.985908333333333
          ],
          [
           -5750.492187500058,
           -4.582065488047853
          ],
          [
           -47023.953125000146,
           -26.49236795774654
          ],
          [
           -72681.75000000006,
           -40.40119510839357
          ],
          [
           -10999.249999999978,
           -19.643973353812054
          ],
          [
           1483.8437500000873,
           1.1198820754717647
          ],
          [
           -20688.81249999997,
           -15.325046296296279
          ],
          [
           246.5937499999127,
           0.09670343137251475
          ],
          [
           -10307.757812499913,
           -7.362684151785657
          ],
          [
           -3072.0937500001746,
           -1.1336139298893626
          ],
          [
           -26429.93749999994,
           -10.718692462425663
          ],
          [
           -14820.187500000116,
           -7.3186111111111645
          ],
          [
           16225.749999999956,
           21.634333333333263
          ],
          [
           -17946.210937499956,
           -14.649968112244867
          ],
          [
           20174.249999999985,
           18.597206858407063
          ],
          [
           -43949.21093749997,
           -27.46825683593749
          ],
          [
           -52622.71093750012,
           -30.7735151681287
          ],
          [
           -44248.67187500009,
           -22.57585299744901
          ],
          [
           -41102.375000000146,
           -18.267722222222275
          ],
          [
           13927.296874999854,
           7.069693845177587
          ],
          [
           29631.5625,
           74.07890625
          ],
          [
           -11719.203124999854,
           -6.793740942028908
          ],
          [
           -27496.76562500003,
           -17.751301242737263
          ],
          [
           -94189.625,
           -33.63915178571428
          ],
          [
           -25064.687500000116,
           -14.322678571428629
          ],
          [
           -32917.73437499988,
           -22.39301658163259
          ],
          [
           -32753.937500000175,
           -10.398075396825448
          ],
          [
           -384.0312500000582,
           -0.20758445945949086
          ],
          [
           25712.24999999997,
           18.975830258302558
          ],
          [
           -42896.265624999825,
           -17.910758089770294
          ],
          [
           4392.828124999971,
           3.1603080035971005
          ],
          [
           53972.53125000009,
           38.55180803571437
          ],
          [
           15042.125000000087,
           13.674659090909183
          ],
          [
           25217.765624999854,
           11.207895833333263
          ],
          [
           -11945.671875000087,
           -8.324510017421659
          ],
          [
           -21964.42187500006,
           -17.033285672741407
          ],
          [
           4085.9531250001455,
           2.3686684782609557
          ],
          [
           -95956.390625,
           -39.733495082815736
          ],
          [
           -6100.640625000233,
           -2.324053571428658
          ],
          [
           77485.09375000003,
           39.89943087316751
          ],
          [
           3653.2499999999127,
           2.5547202797202173
          ],
          [
           -44158.08593750009,
           -33.96775841346158
          ],
          [
           1916.7656250000728,
           1.521242559523868
          ],
          [
           4360.531249999884,
           3.0600219298244773
          ],
          [
           -49501.250000000204,
           -19.48868110236227
          ],
          [
           -12771.374999999796,
           -5.871896551724049
          ],
          [
           11515.539062499942,
           17.31660009398486
          ],
          [
           26592.54687500003,
           13.2301228233831
          ],
          [
           -12313.656250000116,
           -7.944294354838779
          ],
          [
           -5640.390624999971,
           -8.246185124268967
          ],
          [
           63744.851562499985,
           98.82922722868211
          ],
          [
           -42718.17187499991,
           -24.692584898843894
          ],
          [
           -28493.66406249994,
           -27.72404458482521
          ],
          [
           -1403.5000000000146,
           -1.6531213191990746
          ],
          [
           33504.96874999991,
           20.232469051932302
          ],
          [
           3496.1406249999563,
           2.9134505208332957
          ],
          [
           -12548.56249999997,
           -9.295231481481462
          ],
          [
           -18129.937499999825,
           -8.240880681818108
          ],
          [
           -26499.515625,
           -17.25509726517988
          ],
          [
           5540.421875,
           2.8354257292732856
          ],
          [
           -6098.359374999884,
           -4.148543792516931
          ],
          [
           -11772.499999999825,
           -4.24999999999994
          ],
          [
           -34727.90625000009,
           -24.285249125874174
          ],
          [
           6159.039062499942,
           5.81590090887624
          ],
          [
           -115202.10156250017,
           -47.6041741993802
          ],
          [
           10845.546875,
           5.576116645244216
          ],
          [
           48215.000000000175,
           10.988422444049455
          ],
          [
           -15979.734375000058,
           -8.637694256756786
          ],
          [
           69896.15624999997,
           65.0196802325581
          ],
          [
           -51144.359375000146,
           -30.996581439394003
          ],
          [
           -19075.15625000006,
           -10.838156960227302
          ],
          [
           23394.781249999884,
           18.009839299461017
          ],
          [
           -22534.312499999913,
           -19.595054347826025
          ],
          [
           -88222.91406249988,
           -45.91595402440925
          ],
          [
           -5143.578124999971,
           -3.2147363281249826
          ],
          [
           -2095.7656250001164,
           -1.445355603448355
          ],
          [
           22010.968749999985,
           25.594149709302304
          ],
          [
           7939.468750000029,
           5.024980221519007
          ],
          [
           -719.6328125000146,
           -0.5644178921568741
          ],
          [
           1821.4218750000873,
           1.5838451086957293
          ],
          [
           -14351.843750000087,
           -12.009911087866174
          ],
          [
           -17021.765625000087,
           -9.676956011938646
          ],
          [
           2218.859374999971,
           0.924524739583321
          ],
          [
           -98735.18750000035,
           -24.996250000000067
          ],
          [
           26635.531249999854,
           16.14274621212111
          ],
          [
           19520.890625000044,
           15.226903763650586
          ],
          [
           73181.74999999983,
           26.61154545454537
          ],
          [
           34225.74999999994,
           10.974293941104023
          ],
          [
           -17898.875000000175,
           -8.363960280373906
          ],
          [
           38386.8125,
           25.007695439739415
          ],
          [
           -3244.609375,
           -2.253200954861111
          ],
          [
           30432.750000000087,
           26.463260869565314
          ],
          [
           -11181.75000000003,
           -6.212083333333348
          ],
          [
           -39621.00000000023,
           -8.520645161290368
          ],
          [
           -9833.01562500003,
           -5.4627864583333485
          ],
          [
           -72008.70312500009,
           -28.46193799407117
          ],
          [
           13649.742187500044,
           16.058520220588296
          ],
          [
           -1196.585937500029,
           -1.1754282293713445
          ],
          [
           30533.546875000116,
           20.56131102693612
          ],
          [
           -19545.648437500116,
           -14.215017045454617
          ],
          [
           -9878.812500000116,
           -3.10594901606928
          ],
          [
           16958.281249999913,
           11.858937937062867
          ],
          [
           -23310.968749999913,
           -16.650691964285663
          ],
          [
           15206.87500000003,
           7.89967532467534
          ],
          [
           -10973.367187500073,
           -11.927573029891374
          ],
          [
           -35245.046875000146,
           -17.89088673857874
          ],
          [
           11118.992187500087,
           10.154330764840271
          ],
          [
           -23732.937500000175,
           -7.990888047138102
          ],
          [
           -40094.609375,
           -21.58525403768506
          ],
          [
           -66348.62500000009,
           -28.847228260869592
          ],
          [
           16098.460937499956,
           17.99293730650149
          ],
          [
           -25252.031249999796,
           -9.71231971153839
          ],
          [
           -50862.92187499988,
           -26.911598875661333
          ],
          [
           23928.984374999985,
           22.15646701388887
          ],
          [
           14070.78124999997,
           11.301832329317245
          ]
         ],
         "mode": "markers",
         "name": "Houses",
         "type": "scatter",
         "x": [
          154500.00000000012,
          324999.9999999999,
          114999.99999999991,
          158999.99999999997,
          315500.00000000023,
          75500.00000000006,
          311500.0000000001,
          145999.99999999997,
          84499.99999999994,
          135500.00000000003,
          145000.00000000012,
          130000.00000000009,
          81000.00000000007,
          214000.00000000017,
          181000.00000000006,
          134500.00000000006,
          183500.00000000006,
          134999.99999999997,
          118399.99999999999,
          225999.9999999998,
          155000.00000000012,
          210000,
          173499.99999999985,
          129000.0000000001,
          191999.99999999997,
          153899.99999999988,
          181134.00000000003,
          140999.99999999994,
          181000.00000000006,
          208900.00000000017,
          126999.99999999991,
          284000.00000000023,
          200499.99999999988,
          135750.00000000012,
          255000.0000000001,
          139999.9999999999,
          138000.00000000006,
          219500.00000000012,
          310000.0000000002,
          96999.99999999999,
          114499.99999999991,
          205000,
          119500.00000000009,
          253293.00000000017,
          128500.00000000004,
          117499.99999999996,
          114999.99999999991,
          126999.99999999991,
          451950.00000000006,
          144000,
          118999.99999999993,
          196000.0000000001,
          114999.99999999991,
          287000.0000000001,
          144499.99999999994,
          259999.9999999998,
          213000.00000000015,
          175000.00000000012,
          107000.00000000003,
          107500.00000000003,
          68499.99999999999,
          153999.99999999988,
          316999.9999999999,
          264132.00000000023,
          283463,
          243000.00000000003,
          109000,
          304999.99999999977,
          93500.00000000009,
          176000.00000000006,
          118858.00000000009,
          133999.9999999999,
          109008.00000000007,
          93500.00000000009,
          611657.0000000003,
          172999.9999999999,
          348000.0000000002,
          341000.0000000002,
          140999.99999999994,
          124899.99999999993,
          118000.00000000009,
          67000,
          112999.99999999993,
          91299.99999999996,
          149500.00000000012,
          133000.00000000012,
          265999.9999999998,
          189999.9999999999,
          155900.00000000012,
          155835,
          153500,
          152000.00000000006,
          124500.00000000003,
          301000.00000000023,
          136500.00000000006,
          169990.00000000006,
          205000,
          183900.00000000012,
          204899.99999999985,
          259999.9999999998,
          163499.99999999988,
          224900.00000000012,
          244000.00000000003,
          131999.9999999999,
          194000.00000000006,
          156499.99999999985,
          156000,
          275000.0000000002,
          145000.00000000012,
          134999.99999999997,
          60000.000000000015,
          124000.00000000007,
          126999.99999999991,
          137500.00000000012,
          213499.99999999994,
          118999.99999999993,
          107899.9999999999,
          123000.00000000009,
          112000.00000000004,
          284000.00000000023,
          133000.00000000012,
          149000,
          169000.00000000012,
          206999.99999999994,
          175000.00000000012,
          136999.9999999999,
          235999.9999999999,
          79500.00000000004,
          144000,
          162900.0000000001,
          185900.00000000012,
          369899.9999999998,
          197900.0000000001,
          104000.00000000003,
          35311.00000000002,
          337500.00000000006,
          367293.9999999998,
          130249.9999999999,
          230000.0000000001,
          755000.0000000005,
          402999.9999999999,
          131999.9999999999,
          177999.99999999994,
          136500.00000000006,
          145000.00000000012,
          123000.00000000009,
          249999.9999999998,
          187100.00000000006,
          133899.99999999997,
          67000,
          137500.00000000012,
          155000.00000000012,
          200624.0000000001,
          154299.99999999997,
          90999.99999999991,
          135999.99999999997,
          108959.00000000003,
          139999.9999999999,
          86000.00000000001,
          131399.99999999997,
          179900.00000000006,
          144000,
          293076.99999999994,
          144499.99999999994,
          118500.00000000009,
          140999.99999999994,
          239000.00000000003,
          276000.0000000002,
          556581.0000000003,
          244400.00000000017,
          360000.0000000001,
          103200.00000000009,
          102000.00000000001,
          151000.00000000006,
          284999.99999999994,
          134432.00000000003,
          112999.99999999993,
          187500,
          125500.00000000006,
          177500.00000000015,
          179900.00000000006,
          55992.99999999998,
          132499.9999999999,
          134999.99999999997,
          255000.0000000001,
          139999.9999999999,
          271000.0000000002,
          246577.99999999994,
          202500.00000000012,
          75000.00000000004,
          122499.99999999996,
          108480.00000000001,
          159999.99999999997,
          171000.00000000012,
          196000.0000000001,
          225000.00000000015,
          197000.00000000015,
          40000,
          172499.99999999985,
          154900.00000000003,
          280000,
          175000.00000000012,
          146999.99999999988,
          315000.0000000002,
          185000.00000000006,
          135500.00000000003,
          239499.99999999983,
          139000.00000000003,
          139999.9999999999,
          109999.99999999991,
          225000.00000000015,
          143500.0000000001,
          128950.00000000006,
          172499.99999999985,
          241500,
          262500.00000000023,
          194200.99999999997,
          143000.0000000001,
          130000.00000000009,
          125999.99999999993,
          142500.00000000012,
          254000.0000000002,
          217499.9999999998,
          66500.00000000006,
          200999.99999999997,
          155000.00000000012,
          68399.99999999997,
          64500.000000000015,
          172999.9999999999,
          102775.99999999994,
          84900.00000000001,
          165600.0000000001,
          120000.00000000004,
          134999.99999999997,
          219999.99999999983,
          153575,
          195400,
          146999.99999999988,
          276999.9999999998,
          143000.0000000001,
          105900.00000000006,
          242000.00000000017,
          194500,
          438779.9999999998,
          185000.00000000006,
          107500.00000000003,
          165000.00000000015,
          176000.00000000006,
          129900.00000000012,
          114999.99999999991,
          192139.99999999988,
          159999.99999999997,
          145000.00000000012,
          86000.00000000001,
          157999.99999999997,
          127500.00000000001,
          114999.99999999991,
          119500.00000000009,
          175900.0000000001,
          240000.00000000003,
          395000.00000000035,
          165000.00000000015,
          128199.99999999996,
          275000.0000000002,
          311872.00000000006,
          214000.00000000017,
          153500,
          144000,
          114999.99999999991,
          180000.00000000003,
          465000.00000000023,
          180000.00000000003,
          253000.0000000001,
          84999.99999999996,
          101800.00000000003,
          148499.99999999988,
          137500.00000000012,
          318061.0000000001,
          143000.0000000001,
          139999.9999999999,
          192499.99999999997,
          92000.00000000007,
          197000.00000000015,
          109499.99999999991,
          297000.0000000002,
          185750,
          230000.0000000001,
          89471.00000000004,
          259999.9999999998,
          188999.99999999988,
          108000.00000000001,
          124500.00000000003
         ],
         "y": [
          143770.890625,
          263872.6875,
          89521.3515625,
          151073.09375,
          308747.3125,
          97758.796875,
          189356.671875,
          131654.109375,
          76694.7421875,
          143593.03125,
          117835.8515625,
          124824.203125,
          68998.2890625,
          199225.390625,
          139809.671875,
          147142.453125,
          170965.015625,
          127747.3046875,
          88722.75,
          203109.640625,
          180342.421875,
          147236.5,
          141946.78125,
          173770.984375,
          217227.453125,
          158794.46875,
          210084.125,
          114880.578125,
          159876.234375,
          161999.34375,
          152777.53125,
          244863.109375,
          136894.875,
          123600.0625,
          242476.5625,
          177541.890625,
          137100.90625,
          168148.21875,
          217202.59375,
          89271.890625,
          160961.6875,
          215472.4375,
          154623.703125,
          364602.34375,
          139331.6875,
          159710.125,
          124846.46875,
          142098.34375,
          429282.75,
          122458.328125,
          163694.9375,
          270366.875,
          130239.8359375,
          176607.6875,
          162166.28125,
          260976.109375,
          195475.0625,
          130414.09375,
          118948.5546875,
          88330.84375,
          87519.8203125,
          215712.171875,
          237472.078125,
          267526.53125,
          326332.09375,
          190419.671875,
          123798.484375,
          311555.75,
          95336.3203125,
          224809.546875,
          103260.9140625,
          132926.953125,
          146960.421875,
          92856.1875,
          713069.75,
          164250.390625,
          310854.75,
          308736.40625,
          136099.375,
          115597.2421875,
          97931.8046875,
          51006.51953125,
          91422.4140625,
          101762.6171875,
          170804,
          103620.1953125,
          192023.75,
          201428.71875,
          157211.09375,
          174337.515625,
          140785.859375,
          93970.921875,
          148720.828125,
          414475.09375,
          95634.09375,
          166073.09375,
          149592.8125,
          183547.546875,
          186586.71875,
          257656.84375,
          178623.390625,
          176386.171875,
          433944.3125,
          146653.796875,
          186570.703125,
          157480.75,
          179070.765625,
          347493.4375,
          133312.765625,
          245442.703125,
          34157.359375,
          116105.25,
          125797.4609375,
          149267.890625,
          143490.90625,
          158991.765625,
          124131.640625,
          128483.5703125,
          104018.6171875,
          302833.625,
          160293.9375,
          141197.578125,
          161862.671875,
          140531.796875,
          177861.34375,
          143053.40625,
          231582.640625,
          71170.296875,
          127300,
          204387.21875,
          155030.9375,
          385633.4375,
          142366.640625,
          92353.8515625,
          67535.4921875,
          353368.15625,
          451082.71875,
          130906.546875,
          252167.28125,
          795512.6875,
          325993.6875,
          156806.515625,
          155036.265625,
          198797.59375,
          98550.625,
          147029.390625,
          268957.3125,
          166660.296875,
          86216.203125,
          86140.9140625,
          146284.34375,
          157879.09375,
          271744.6875,
          208072.46875,
          87313.6484375,
          128225.53125,
          169786.6875,
          138117.84375,
          108008.078125,
          148018.859375,
          151352.140625,
          192314.78125,
          284101.34375,
          159060.46875,
          128866.8125,
          126944.1796875,
          373472.25,
          258667.25,
          423595.34375,
          213906.96875,
          387788.3125,
          108061.3515625,
          104436.4921875,
          130406.1328125,
          273738.90625,
          106285.296875,
          117683.453125,
          166901.421875,
          119749.5078125,
          130476.046875,
          107218.25,
          44993.75,
          133983.84375,
          114311.1875,
          255246.59375,
          129692.2421875,
          267927.90625,
          220148.0625,
          187679.8125,
          91225.75,
          104553.7890625,
          128654.25,
          116050.7890625,
          118377.2890625,
          151751.328125,
          183897.625,
          210927.296875,
          69631.5625,
          160780.796875,
          127403.234375,
          185810.375,
          149935.3125,
          114082.265625,
          282246.0625,
          184615.96875,
          161212.25,
          196603.734375,
          143392.828125,
          193972.53125,
          125042.125,
          250217.765625,
          131554.328125,
          106985.578125,
          176585.953125,
          145543.609375,
          256399.359375,
          271686.09375,
          146653.25,
          85841.9140625,
          127916.765625,
          146860.53125,
          204498.75,
          204728.625,
          78015.5390625,
          227592.546875,
          142686.34375,
          62759.609375,
          128244.8515625,
          130281.828125,
          74282.3359375,
          83496.5,
          199104.96875,
          123496.140625,
          122451.4375,
          201870.0625,
          127075.484375,
          200940.421875,
          140901.640625,
          265227.5,
          108272.09375,
          112059.0390625,
          126797.8984375,
          205345.546875,
          486995,
          169020.265625,
          177396.15625,
          113855.640625,
          156924.84375,
          153294.78125,
          92465.6875,
          103917.0859375,
          154856.421875,
          142904.234375,
          108010.96875,
          165939.46875,
          126780.3671875,
          116821.421875,
          105148.15625,
          158878.234375,
          242218.859375,
          296264.8125,
          191635.53125,
          147720.890625,
          348181.75,
          346097.75,
          196101.125,
          191886.8125,
          140755.390625,
          145432.75,
          168818.25,
          425379,
          170166.984375,
          180991.296875,
          98649.7421875,
          100603.4140625,
          179033.546875,
          117954.3515625,
          308182.1875,
          159958.28125,
          116689.03125,
          207706.875,
          81026.6328125,
          161754.953125,
          120618.9921875,
          273267.0625,
          145655.390625,
          163651.375,
          105569.4609375,
          234747.96875,
          138137.078125,
          131928.984375,
          138570.78125
         ]
        },
        {
         "mode": "lines",
         "name": "y = x",
         "type": "scatter",
         "x": [
          34157.359375,
          795512.6875
         ],
         "y": [
          34157.359375,
          795512.6875
         ]
        }
       ],
       "layout": {
        "template": {
         "data": {
          "bar": [
           {
            "error_x": {
             "color": "#2a3f5f"
            },
            "error_y": {
             "color": "#2a3f5f"
            },
            "marker": {
             "line": {
              "color": "#E5ECF6",
              "width": 0.5
             },
             "pattern": {
              "fillmode": "overlay",
              "size": 10,
              "solidity": 0.2
             }
            },
            "type": "bar"
           }
          ],
          "barpolar": [
           {
            "marker": {
             "line": {
              "color": "#E5ECF6",
              "width": 0.5
             },
             "pattern": {
              "fillmode": "overlay",
              "size": 10,
              "solidity": 0.2
             }
            },
            "type": "barpolar"
           }
          ],
          "carpet": [
           {
            "aaxis": {
             "endlinecolor": "#2a3f5f",
             "gridcolor": "white",
             "linecolor": "white",
             "minorgridcolor": "white",
             "startlinecolor": "#2a3f5f"
            },
            "baxis": {
             "endlinecolor": "#2a3f5f",
             "gridcolor": "white",
             "linecolor": "white",
             "minorgridcolor": "white",
             "startlinecolor": "#2a3f5f"
            },
            "type": "carpet"
           }
          ],
          "choropleth": [
           {
            "colorbar": {
             "outlinewidth": 0,
             "ticks": ""
            },
            "type": "choropleth"
           }
          ],
          "contour": [
           {
            "colorbar": {
             "outlinewidth": 0,
             "ticks": ""
            },
            "colorscale": [
             [
              0,
              "#0d0887"
             ],
             [
              0.1111111111111111,
              "#46039f"
             ],
             [
              0.2222222222222222,
              "#7201a8"
             ],
             [
              0.3333333333333333,
              "#9c179e"
             ],
             [
              0.4444444444444444,
              "#bd3786"
             ],
             [
              0.5555555555555556,
              "#d8576b"
             ],
             [
              0.6666666666666666,
              "#ed7953"
             ],
             [
              0.7777777777777778,
              "#fb9f3a"
             ],
             [
              0.8888888888888888,
              "#fdca26"
             ],
             [
              1,
              "#f0f921"
             ]
            ],
            "type": "contour"
           }
          ],
          "contourcarpet": [
           {
            "colorbar": {
             "outlinewidth": 0,
             "ticks": ""
            },
            "type": "contourcarpet"
           }
          ],
          "heatmap": [
           {
            "colorbar": {
             "outlinewidth": 0,
             "ticks": ""
            },
            "colorscale": [
             [
              0,
              "#0d0887"
             ],
             [
              0.1111111111111111,
              "#46039f"
             ],
             [
              0.2222222222222222,
              "#7201a8"
             ],
             [
              0.3333333333333333,
              "#9c179e"
             ],
             [
              0.4444444444444444,
              "#bd3786"
             ],
             [
              0.5555555555555556,
              "#d8576b"
             ],
             [
              0.6666666666666666,
              "#ed7953"
             ],
             [
              0.7777777777777778,
              "#fb9f3a"
             ],
             [
              0.8888888888888888,
              "#fdca26"
             ],
             [
              1,
              "#f0f921"
             ]
            ],
            "type": "heatmap"
           }
          ],
          "heatmapgl": [
           {
            "colorbar": {
             "outlinewidth": 0,
             "ticks": ""
            },
            "colorscale": [
             [
              0,
              "#0d0887"
             ],
             [
              0.1111111111111111,
              "#46039f"
             ],
             [
              0.2222222222222222,
              "#7201a8"
             ],
             [
              0.3333333333333333,
              "#9c179e"
             ],
             [
              0.4444444444444444,
              "#bd3786"
             ],
             [
              0.5555555555555556,
              "#d8576b"
             ],
             [
              0.6666666666666666,
              "#ed7953"
             ],
             [
              0.7777777777777778,
              "#fb9f3a"
             ],
             [
              0.8888888888888888,
              "#fdca26"
             ],
             [
              1,
              "#f0f921"
             ]
            ],
            "type": "heatmapgl"
           }
          ],
          "histogram": [
           {
            "marker": {
             "pattern": {
              "fillmode": "overlay",
              "size": 10,
              "solidity": 0.2
             }
            },
            "type": "histogram"
           }
          ],
          "histogram2d": [
           {
            "colorbar": {
             "outlinewidth": 0,
             "ticks": ""
            },
            "colorscale": [
             [
              0,
              "#0d0887"
             ],
             [
              0.1111111111111111,
              "#46039f"
             ],
             [
              0.2222222222222222,
              "#7201a8"
             ],
             [
              0.3333333333333333,
              "#9c179e"
             ],
             [
              0.4444444444444444,
              "#bd3786"
             ],
             [
              0.5555555555555556,
              "#d8576b"
             ],
             [
              0.6666666666666666,
              "#ed7953"
             ],
             [
              0.7777777777777778,
              "#fb9f3a"
             ],
             [
              0.8888888888888888,
              "#fdca26"
             ],
             [
              1,
              "#f0f921"
             ]
            ],
            "type": "histogram2d"
           }
          ],
          "histogram2dcontour": [
           {
            "colorbar": {
             "outlinewidth": 0,
             "ticks": ""
            },
            "colorscale": [
             [
              0,
              "#0d0887"
             ],
             [
              0.1111111111111111,
              "#46039f"
             ],
             [
              0.2222222222222222,
              "#7201a8"
             ],
             [
              0.3333333333333333,
              "#9c179e"
             ],
             [
              0.4444444444444444,
              "#bd3786"
             ],
             [
              0.5555555555555556,
              "#d8576b"
             ],
             [
              0.6666666666666666,
              "#ed7953"
             ],
             [
              0.7777777777777778,
              "#fb9f3a"
             ],
             [
              0.8888888888888888,
              "#fdca26"
             ],
             [
              1,
              "#f0f921"
             ]
            ],
            "type": "histogram2dcontour"
           }
          ],
          "mesh3d": [
           {
            "colorbar": {
             "outlinewidth": 0,
             "ticks": ""
            },
            "type": "mesh3d"
           }
          ],
          "parcoords": [
           {
            "line": {
             "colorbar": {
              "outlinewidth": 0,
              "ticks": ""
             }
            },
            "type": "parcoords"
           }
          ],
          "pie": [
           {
            "automargin": true,
            "type": "pie"
           }
          ],
          "scatter": [
           {
            "fillpattern": {
             "fillmode": "overlay",
             "size": 10,
             "solidity": 0.2
            },
            "type": "scatter"
           }
          ],
          "scatter3d": [
           {
            "line": {
             "colorbar": {
              "outlinewidth": 0,
              "ticks": ""
             }
            },
            "marker": {
             "colorbar": {
              "outlinewidth": 0,
              "ticks": ""
             }
            },
            "type": "scatter3d"
           }
          ],
          "scattercarpet": [
           {
            "marker": {
             "colorbar": {
              "outlinewidth": 0,
              "ticks": ""
             }
            },
            "type": "scattercarpet"
           }
          ],
          "scattergeo": [
           {
            "marker": {
             "colorbar": {
              "outlinewidth": 0,
              "ticks": ""
             }
            },
            "type": "scattergeo"
           }
          ],
          "scattergl": [
           {
            "marker": {
             "colorbar": {
              "outlinewidth": 0,
              "ticks": ""
             }
            },
            "type": "scattergl"
           }
          ],
          "scattermapbox": [
           {
            "marker": {
             "colorbar": {
              "outlinewidth": 0,
              "ticks": ""
             }
            },
            "type": "scattermapbox"
           }
          ],
          "scatterpolar": [
           {
            "marker": {
             "colorbar": {
              "outlinewidth": 0,
              "ticks": ""
             }
            },
            "type": "scatterpolar"
           }
          ],
          "scatterpolargl": [
           {
            "marker": {
             "colorbar": {
              "outlinewidth": 0,
              "ticks": ""
             }
            },
            "type": "scatterpolargl"
           }
          ],
          "scatterternary": [
           {
            "marker": {
             "colorbar": {
              "outlinewidth": 0,
              "ticks": ""
             }
            },
            "type": "scatterternary"
           }
          ],
          "surface": [
           {
            "colorbar": {
             "outlinewidth": 0,
             "ticks": ""
            },
            "colorscale": [
             [
              0,
              "#0d0887"
             ],
             [
              0.1111111111111111,
              "#46039f"
             ],
             [
              0.2222222222222222,
              "#7201a8"
             ],
             [
              0.3333333333333333,
              "#9c179e"
             ],
             [
              0.4444444444444444,
              "#bd3786"
             ],
             [
              0.5555555555555556,
              "#d8576b"
             ],
             [
              0.6666666666666666,
              "#ed7953"
             ],
             [
              0.7777777777777778,
              "#fb9f3a"
             ],
             [
              0.8888888888888888,
              "#fdca26"
             ],
             [
              1,
              "#f0f921"
             ]
            ],
            "type": "surface"
           }
          ],
          "table": [
           {
            "cells": {
             "fill": {
              "color": "#EBF0F8"
             },
             "line": {
              "color": "white"
             }
            },
            "header": {
             "fill": {
              "color": "#C8D4E3"
             },
             "line": {
              "color": "white"
             }
            },
            "type": "table"
           }
          ]
         },
         "layout": {
          "annotationdefaults": {
           "arrowcolor": "#2a3f5f",
           "arrowhead": 0,
           "arrowwidth": 1
          },
          "autotypenumbers": "strict",
          "coloraxis": {
           "colorbar": {
            "outlinewidth": 0,
            "ticks": ""
           }
          },
          "colorscale": {
           "diverging": [
            [
             0,
             "#8e0152"
            ],
            [
             0.1,
             "#c51b7d"
            ],
            [
             0.2,
             "#de77ae"
            ],
            [
             0.3,
             "#f1b6da"
            ],
            [
             0.4,
             "#fde0ef"
            ],
            [
             0.5,
             "#f7f7f7"
            ],
            [
             0.6,
             "#e6f5d0"
            ],
            [
             0.7,
             "#b8e186"
            ],
            [
             0.8,
             "#7fbc41"
            ],
            [
             0.9,
             "#4d9221"
            ],
            [
             1,
             "#276419"
            ]
           ],
           "sequential": [
            [
             0,
             "#0d0887"
            ],
            [
             0.1111111111111111,
             "#46039f"
            ],
            [
             0.2222222222222222,
             "#7201a8"
            ],
            [
             0.3333333333333333,
             "#9c179e"
            ],
            [
             0.4444444444444444,
             "#bd3786"
            ],
            [
             0.5555555555555556,
             "#d8576b"
            ],
            [
             0.6666666666666666,
             "#ed7953"
            ],
            [
             0.7777777777777778,
             "#fb9f3a"
            ],
            [
             0.8888888888888888,
             "#fdca26"
            ],
            [
             1,
             "#f0f921"
            ]
           ],
           "sequentialminus": [
            [
             0,
             "#0d0887"
            ],
            [
             0.1111111111111111,
             "#46039f"
            ],
            [
             0.2222222222222222,
             "#7201a8"
            ],
            [
             0.3333333333333333,
             "#9c179e"
            ],
            [
             0.4444444444444444,
             "#bd3786"
            ],
            [
             0.5555555555555556,
             "#d8576b"
            ],
            [
             0.6666666666666666,
             "#ed7953"
            ],
            [
             0.7777777777777778,
             "#fb9f3a"
            ],
            [
             0.8888888888888888,
             "#fdca26"
            ],
            [
             1,
             "#f0f921"
            ]
           ]
          },
          "colorway": [
           "#636efa",
           "#EF553B",
           "#00cc96",
           "#ab63fa",
           "#FFA15A",
           "#19d3f3",
           "#FF6692",
           "#B6E880",
           "#FF97FF",
           "#FECB52"
          ],
          "font": {
           "color": "#2a3f5f"
          },
          "geo": {
           "bgcolor": "white",
           "lakecolor": "white",
           "landcolor": "#E5ECF6",
           "showlakes": true,
           "showland": true,
           "subunitcolor": "white"
          },
          "hoverlabel": {
           "align": "left"
          },
          "hovermode": "closest",
          "mapbox": {
           "style": "light"
          },
          "paper_bgcolor": "white",
          "plot_bgcolor": "#E5ECF6",
          "polar": {
           "angularaxis": {
            "gridcolor": "white",
            "linecolor": "white",
            "ticks": ""
           },
           "bgcolor": "#E5ECF6",
           "radialaxis": {
            "gridcolor": "white",
            "linecolor": "white",
            "ticks": ""
           }
          },
          "scene": {
           "xaxis": {
            "backgroundcolor": "#E5ECF6",
            "gridcolor": "white",
            "gridwidth": 2,
            "linecolor": "white",
            "showbackground": true,
            "ticks": "",
            "zerolinecolor": "white"
           },
           "yaxis": {
            "backgroundcolor": "#E5ECF6",
            "gridcolor": "white",
            "gridwidth": 2,
            "linecolor": "white",
            "showbackground": true,
            "ticks": "",
            "zerolinecolor": "white"
           },
           "zaxis": {
            "backgroundcolor": "#E5ECF6",
            "gridcolor": "white",
            "gridwidth": 2,
            "linecolor": "white",
            "showbackground": true,
            "ticks": "",
            "zerolinecolor": "white"
           }
          },
          "shapedefaults": {
           "line": {
            "color": "#2a3f5f"
           }
          },
          "ternary": {
           "aaxis": {
            "gridcolor": "white",
            "linecolor": "white",
            "ticks": ""
           },
           "baxis": {
            "gridcolor": "white",
            "linecolor": "white",
            "ticks": ""
           },
           "bgcolor": "#E5ECF6",
           "caxis": {
            "gridcolor": "white",
            "linecolor": "white",
            "ticks": ""
           }
          },
          "title": {
           "x": 0.05
          },
          "xaxis": {
           "automargin": true,
           "gridcolor": "white",
           "linecolor": "white",
           "ticks": "",
           "title": {
            "standoff": 15
           },
           "zerolinecolor": "white",
           "zerolinewidth": 2
          },
          "yaxis": {
           "automargin": true,
           "gridcolor": "white",
           "linecolor": "white",
           "ticks": "",
           "title": {
            "standoff": 15
           },
           "zerolinecolor": "white",
           "zerolinewidth": 2
          }
         }
        },
        "title": {
         "text": "Parity plot: Prediction / Real"
        },
        "xaxis": {
         "title": {
          "text": "Predicted price"
         }
        },
        "yaxis": {
         "title": {
          "text": "Real price"
         }
        }
       }
      }
     },
     "metadata": {},
     "output_type": "display_data"
    }
   ],
   "source": [
    "def inv_if_log(y):\n",
    "    y = np.asarray(y).reshape(-1)\n",
    "    return np.expm1(y) if np.nanmax(y) < 20 else y\n",
    "\n",
    "X_val_hood_i32 = X_val_hood.astype('int32')\n",
    "\n",
    "y_pred_log = model.predict({'main': X_val_main, 'hood': X_val_hood_i32}, batch_size=256, verbose=0).ravel()\n",
    "y_true = inv_if_log(y_val)\n",
    "y_pred = inv_if_log(y_pred_log)\n",
    "\n",
    "df = pd.DataFrame({\n",
    "    \"i\": np.arange(len(y_true)),\n",
    "    \"y_true\": y_true,\n",
    "    \"y_pred\": y_pred\n",
    "})\n",
    "df[\"err\"] = df[\"y_pred\"] - df[\"y_true\"]\n",
    "df[\"abs_err\"] = df[\"err\"].abs()\n",
    "df[\"pct_err\"] = 100 * df[\"err\"] / df[\"y_true\"]\n",
    "\n",
    "xy_min = float(min(df[\"y_true\"].min(), df[\"y_pred\"].min()))\n",
    "xy_max = float(max(df[\"y_true\"].max(), df[\"y_pred\"].max()))\n",
    "\n",
    "fig2 = go.Figure()\n",
    "fig2.add_trace(go.Scatter(\n",
    "    x=df[\"y_true\"], y=df[\"y_pred\"], mode=\"markers\", name=\"Houses\",\n",
    "    customdata=np.c_[df[\"err\"], df[\"pct_err\"]],\n",
    "))\n",
    "fig2.add_trace(go.Scatter(\n",
    "    x=[xy_min, xy_max], y=[xy_min, xy_max], mode=\"lines\", name=\"y = x\"\n",
    "))\n",
    "fig2.update_layout(\n",
    "    title=\"Parity plot: Prediction / Real\",\n",
    "    xaxis_title=\"Predicted price\",\n",
    "    yaxis_title=\"Real price\"\n",
    ")\n",
    "fig2.show()\n"
   ]
  }
 ],
 "metadata": {
  "kernelspec": {
   "display_name": "base",
   "language": "python",
   "name": "python3"
  },
  "language_info": {
   "codemirror_mode": {
    "name": "ipython",
    "version": 3
   },
   "file_extension": ".py",
   "mimetype": "text/x-python",
   "name": "python",
   "nbconvert_exporter": "python",
   "pygments_lexer": "ipython3",
   "version": "3.12.7"
  }
 },
 "nbformat": 4,
 "nbformat_minor": 5
}
